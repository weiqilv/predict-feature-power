{
 "cells": [
  {
   "cell_type": "markdown",
   "metadata": {},
   "source": [
    "# Data Preprocessing function"
   ]
  },
  {
   "cell_type": "code",
   "execution_count": 1,
   "metadata": {},
   "outputs": [],
   "source": [
    "from sklearn.preprocessing import StandardScaler\n",
    "\n",
    "# The StandardScaler\n",
    "scaler = StandardScaler()\n",
    "\n",
    "from sklearn.preprocessing import LabelEncoder\n",
    "\n",
    "# The label encoder for the target\n",
    "le = LabelEncoder()"
   ]
  },
  {
   "cell_type": "markdown",
   "metadata": {},
   "source": [
    "# Hyperparameter tuning"
   ]
  },
  {
   "cell_type": "code",
   "execution_count": 2,
   "metadata": {},
   "outputs": [],
   "source": [
    "from sklearn.linear_model import LogisticRegression\n",
    "from sklearn.pipeline import Pipeline\n",
    "from sklearn.preprocessing import StandardScaler\n",
    "from sklearn.model_selection import GridSearchCV\n",
    "from sklearn.model_selection import StratifiedKFold\n",
    "\n",
    "def tuning(X,y):\n",
    "    clfs = {'lr': LogisticRegression(random_state=0)}\n",
    "    pipe_clfs = {}\n",
    "\n",
    "    for name, clf in clfs.items():\n",
    "        pipe_clfs[name] = Pipeline([('StandardScaler', StandardScaler()), ('clf', clf)])\n",
    "\n",
    "    param_grids = {}\n",
    "    C_range = [10 ** i for i in range(-4, 5)]\n",
    "\n",
    "    param_grid = [{'clf__multi_class': ['ovr'], \n",
    "                   'clf__solver': ['newton-cg', 'lbfgs', 'liblinear', 'sag', 'saga'],\n",
    "                   'clf__C': C_range},\n",
    "                  {'clf__multi_class': ['multinomial'],\n",
    "                   'clf__solver': ['newton-cg', 'lbfgs', 'sag', 'saga'],\n",
    "                   'clf__C': C_range}]\n",
    "\n",
    "    param_grids['lr'] = param_grid\n",
    "\n",
    "    # The list of [best_score_, best_params_, best_estimator_]\n",
    "    best_score_param_estimators = []\n",
    "\n",
    "    # For each classifier\n",
    "    for name in pipe_clfs.keys():\n",
    "        # GridSearchCV\n",
    "        gs = GridSearchCV(estimator=pipe_clfs[name],\n",
    "                          param_grid=param_grids[name],\n",
    "                          scoring='accuracy',\n",
    "                          n_jobs=-1,\n",
    "                          cv=StratifiedKFold(n_splits=10,\n",
    "                                            shuffle=True,\n",
    "                                            random_state=0))\n",
    "        # Fit the pipeline\n",
    "        gs = gs.fit(X, y)\n",
    "        print(gs.best_params_, gs.best_estimator_)"
   ]
  },
  {
   "cell_type": "markdown",
   "metadata": {},
   "source": [
    "# Plot lr distribution"
   ]
  },
  {
   "cell_type": "code",
   "execution_count": 3,
   "metadata": {},
   "outputs": [],
   "source": [
    "import numpy as np\n",
    "\n",
    "def get_distribution(clf, X, y, feature, class_):\n",
    "    \"\"\"\n",
    "    Calculate the probability distribution of a class based on a feature\n",
    "    :param clf: the logistic regression classifier\n",
    "    :param X: the feature vector\n",
    "    :param y: the target vector\n",
    "    :param feature: a feature\n",
    "    :param class_: a class label of the target\n",
    "    :return: the probability distribution, which is a dictionary \n",
    "             where the key is the value of the feature and value the probability:\n",
    "             distribution = {val_1: proba_1, val_2: proba_2, ..., val_n: proba_n}\n",
    "             \n",
    "    \"\"\"\n",
    "    \n",
    "    # Get the column number of the feature\n",
    "    col = features.index(feature)\n",
    "    \n",
    "    # Get the encoded number of the class_\n",
    "    if isinstance(class_,int):\n",
    "        num = class_\n",
    "    else:\n",
    "        num = le.transform([class_])\n",
    "    \n",
    "    # Get X_sparse\n",
    "    # Here, all the columns are zeros except for column col, where X_sparse[:, col] = X[:, col]\n",
    "    X_sparse = np.zeros((X.shape[0], X.shape[1]))\n",
    "    X_sparse[:, col] = X[:, col]\n",
    "    \n",
    "    # Get the unique value and the corresponding index in column col\n",
    "    vals, idxs = np.unique(X_sparse[:, col], return_index=True)\n",
    "    \n",
    "    # Get the distribution\n",
    "    distribution = {}\n",
    "    # For each unique index\n",
    "    for idx in idxs:\n",
    "        # Get the corresponding value\n",
    "        val = X_sparse[idx, col]\n",
    "        \n",
    "        # Get the probability of each class\n",
    "        probas = clf.predict_proba(X_sparse[idx, :].reshape(1, -1)).ravel()\n",
    "\n",
    "        # Get the probability of the class\n",
    "        proba = probas[num]\n",
    "        \n",
    "        distribution[val] = proba\n",
    "        \n",
    "    return distribution"
   ]
  },
  {
   "cell_type": "code",
   "execution_count": 4,
   "metadata": {},
   "outputs": [],
   "source": [
    "import matplotlib.pyplot as plt\n",
    "\n",
    "def plot_distribution(distribution, feature, class_):\n",
    "    \"\"\"\n",
    "    Plot the probability distribution of a class based on the feature\n",
    "    :param distribution: the probability distribution, which is a dictionary \n",
    "                         where the key is the value of the feature and value the probability:\n",
    "                         distribution = {val_1: proba_1, val_2: proba_2, ..., val_n: proba_n}\n",
    "    :param feature: a feature\n",
    "    :param class_: a class label of the target\n",
    "    \"\"\"\n",
    "    if feature == 'w41':\n",
    "        feature = 'feature14'\n",
    "    elif feature == 'w25698':\n",
    "        feature = 'software'\n",
    "    \n",
    "    # Get the probabilities\n",
    "    probas = [distribution[val] for val in sorted(distribution.keys())]\n",
    "    \n",
    "    # Get the dataframe\n",
    "    probas_df = pd.DataFrame(probas)\n",
    "    \n",
    "    # Get the values\n",
    "    vals = sorted(distribution.keys())\n",
    "    \n",
    "    # Round down to 2 decimals\n",
    "    vals = [round(val, 2) for val in vals]\n",
    "\n",
    "    # Plot the bar chart\n",
    "    probas_df.plot(kind='bar', color='r', figsize=(10, 5), fontsize=30, legend=False)\n",
    "    \n",
    "    # If the feature has more than 20 unique values\n",
    "    if feature=='Ethnicity':\n",
    "        plt.xticks(range(0,7),range(1,8), fontsize=30, rotation=0)\n",
    "    elif len(vals) > 5:\n",
    "        n = len(vals)\n",
    "        mid = n // 2\n",
    "        plt.xticks([0, mid, n - 1], [vals[0], vals[mid], vals[n - 1]], fontsize=30, rotation=0)\n",
    "        \n",
    "    plt.yticks([0, 0.25, 0.5, 0.75, 1], fontsize=30)\n",
    "    plt.xlabel(feature, fontsize=30)\n",
    "    plt.ylabel('Probability', fontsize=30)\n",
    "    plt.title('LR', fontsize=30, loc='center')\n",
    "    plt.tight_layout()"
   ]
  },
  {
   "cell_type": "markdown",
   "metadata": {},
   "source": [
    "# parkinsons' distribution"
   ]
  },
  {
   "cell_type": "markdown",
   "metadata": {},
   "source": [
    "# Load data"
   ]
  },
  {
   "cell_type": "code",
   "execution_count": 5,
   "metadata": {},
   "outputs": [],
   "source": [
    "import pandas as pd\n",
    "\n",
    "# Load the data\n",
    "df = pd.read_csv('parkinsons.data', header=1)\n",
    "\n",
    "# Specify the name of the columns\n",
    "df.columns = ['name', 'MDVP:Fo(Hz)', 'MDVP:Fhi(Hz)', 'MDVP:Flo(Hz)', 'MDVP:Jitter(%)', 'MDVP:Jitter(Abs)', 'MDVP:RAP', 'MDVP:PPQ', 'Jitter:DDP', 'MDVP:Shimmer', 'MDVP:Shimmer(dB)', 'Shimmer:APQ3', 'Shimmer:APQ5', 'MDVP:APQ', 'Shimmer:DDA', 'NHR', 'HNR', 'status', 'RPDE', 'DFA', 'spread1', 'spread2', 'D2', 'PPE']\n",
    "# Specify the name of the features\n",
    "features = ['MDVP:Fo(Hz)', 'MDVP:Fhi(Hz)', 'MDVP:Flo(Hz)', 'MDVP:Jitter(%)', 'MDVP:Jitter(Abs)' ,'MDVP:RAP' ,'MDVP:PPQ', 'Jitter:DDP', 'MDVP:Shimmer', 'MDVP:Shimmer(dB)', 'Shimmer:APQ3', 'Shimmer:APQ5', 'MDVP:APQ', 'Shimmer:DDA', 'NHR', 'HNR', 'RPDE', 'DFA', 'spread1', 'spread2', 'D2', 'PPE']\n",
    "\n",
    "df.drop('name', axis=1, inplace=True)\n",
    "\n",
    "# Get the features\n",
    "X = df[features].values\n",
    "# Get the target\n",
    "y = df['status'].values"
   ]
  },
  {
   "cell_type": "markdown",
   "metadata": {},
   "source": [
    "# Data preprocessing"
   ]
  },
  {
   "cell_type": "code",
   "execution_count": 6,
   "metadata": {},
   "outputs": [],
   "source": [
    "# Standardize the features\n",
    "X = scaler.fit_transform(X)"
   ]
  },
  {
   "cell_type": "markdown",
   "metadata": {},
   "source": [
    "# Hyperparameter tuning"
   ]
  },
  {
   "cell_type": "code",
   "execution_count": 7,
   "metadata": {},
   "outputs": [
    {
     "name": "stdout",
     "output_type": "stream",
     "text": [
      "{'clf__multi_class': 'ovr', 'clf__solver': 'liblinear', 'clf__C': 10} Pipeline(memory=None,\n",
      "     steps=[('StandardScaler', StandardScaler(copy=True, with_mean=True, with_std=True)), ('clf', LogisticRegression(C=10, class_weight=None, dual=False, fit_intercept=True,\n",
      "          intercept_scaling=1, max_iter=100, multi_class='ovr',\n",
      "          n_jobs=None, penalty='l2', random_state=0, solver='liblinear',\n",
      "          tol=0.0001, verbose=0, warm_start=False))])\n"
     ]
    },
    {
     "name": "stderr",
     "output_type": "stream",
     "text": [
      "/home/user/.local/lib/python3.5/site-packages/sklearn/model_selection/_search.py:841: DeprecationWarning: The default of the `iid` parameter will change from True to False in version 0.22 and will be removed in 0.24. This will change numeric results when test-set sizes are unequal.\n",
      "  DeprecationWarning)\n"
     ]
    }
   ],
   "source": [
    "tuning(X,y)"
   ]
  },
  {
   "cell_type": "markdown",
   "metadata": {},
   "source": [
    "# Fit X and y"
   ]
  },
  {
   "cell_type": "code",
   "execution_count": 8,
   "metadata": {},
   "outputs": [
    {
     "data": {
      "text/plain": [
       "LogisticRegression(C=10, class_weight=None, dual=False, fit_intercept=True,\n",
       "          intercept_scaling=1, max_iter=100, multi_class='ovr',\n",
       "          n_jobs=None, penalty='l2', random_state=0, solver='liblinear',\n",
       "          tol=0.0001, verbose=0, warm_start=False)"
      ]
     },
     "execution_count": 8,
     "metadata": {},
     "output_type": "execute_result"
    }
   ],
   "source": [
    "from sklearn.linear_model import LogisticRegression\n",
    "\n",
    "# Declare the classifier\n",
    "clf = LogisticRegression(multi_class='ovr', solver='liblinear', C=10, random_state=0)\n",
    "\n",
    "# Train the classifier\n",
    "clf.fit(X, y)"
   ]
  },
  {
   "cell_type": "markdown",
   "metadata": {},
   "source": [
    "# Plot distributions"
   ]
  },
  {
   "cell_type": "code",
   "execution_count": 9,
   "metadata": {},
   "outputs": [
    {
     "data": {
      "image/png": "[encoded data removed]",
      "text/plain": [
       "<Figure size 720x360 with 1 Axes>"
      ]
     },
     "metadata": {
      "needs_background": "light"
     },
     "output_type": "display_data"
    }
   ],
   "source": [
    "# Get the distribution\n",
    "distribution = get_distribution(clf, X, y, 'PPE', 1)\n",
    "\n",
    "# Plot the distribution\n",
    "plot_distribution(distribution, 'PPE', 1)\n",
    "plt.savefig('/media/user/2FD84FB396A78049/lwqa/pics/lg-parkinsons-1-PPE.png', dpi=300)\n",
    "plt.show()"
   ]
  },
  {
   "cell_type": "markdown",
   "metadata": {},
   "source": [
    "# Drug consuption's distributions"
   ]
  },
  {
   "cell_type": "markdown",
   "metadata": {},
   "source": [
    "# Load data"
   ]
  },
  {
   "cell_type": "code",
   "execution_count": 10,
   "metadata": {},
   "outputs": [],
   "source": [
    "import pandas as pd\n",
    "\n",
    "# Load the data\n",
    "df = pd.read_csv('drug_consumption.csv', header=None)\n",
    "\n",
    "# Specify the name of the columns\n",
    "df.columns = ['ID', 'Age', 'Gender', 'Education', 'Country','Ethnicity', 'Nscore', 'Escore', 'Oscore', 'Ascore','Cscore', 'Impulsive', 'SS', 'Alcohol', 'Amphet','Amyl', 'Benzos', 'Caff', 'Cannabis', 'Choc', 'Coke', 'Crack','Ecstasy', 'Heroin', 'Ketamine', 'Legalh', 'LSD', 'Meth', 'Mushrooms','Nicotine', 'Semer', 'VSA']\n",
    "\n",
    "# Features\n",
    "features = ['ID', 'Age', 'Gender', 'Education', 'Country','Ethnicity', 'Nscore', 'Escore', 'Oscore', 'Ascore','Cscore', 'Impulsive', 'SS']\n",
    "\n",
    "# Get the features\n",
    "X = df[features].values\n",
    "\n",
    "# Get the target\n",
    "y = df['Heroin'].values\n",
    "\n",
    "for i in range(0,1885):\n",
    "    if not y[i] == 'CL0' :\n",
    "        y[i] = 'CL7'"
   ]
  },
  {
   "cell_type": "markdown",
   "metadata": {},
   "source": [
    "# Data preprocessing"
   ]
  },
  {
   "cell_type": "code",
   "execution_count": 11,
   "metadata": {},
   "outputs": [],
   "source": [
    "# Standardize the features\n",
    "X = scaler.fit_transform(X)\n",
    "\n",
    "# Encode the target\n",
    "y = le.fit_transform(y)"
   ]
  },
  {
   "cell_type": "markdown",
   "metadata": {},
   "source": [
    "# Hyperparameter tuning"
   ]
  },
  {
   "cell_type": "code",
   "execution_count": 12,
   "metadata": {},
   "outputs": [
    {
     "name": "stdout",
     "output_type": "stream",
     "text": [
      "{'clf__multi_class': 'ovr', 'clf__solver': 'newton-cg', 'clf__C': 0.01} Pipeline(memory=None,\n",
      "     steps=[('StandardScaler', StandardScaler(copy=True, with_mean=True, with_std=True)), ('clf', LogisticRegression(C=0.01, class_weight=None, dual=False, fit_intercept=True,\n",
      "          intercept_scaling=1, max_iter=100, multi_class='ovr',\n",
      "          n_jobs=None, penalty='l2', random_state=0, solver='newton-cg',\n",
      "          tol=0.0001, verbose=0, warm_start=False))])\n"
     ]
    }
   ],
   "source": [
    "tuning(X,y)"
   ]
  },
  {
   "cell_type": "markdown",
   "metadata": {},
   "source": [
    "# Fit X and y"
   ]
  },
  {
   "cell_type": "code",
   "execution_count": 13,
   "metadata": {},
   "outputs": [
    {
     "data": {
      "text/plain": [
       "LogisticRegression(C=0.01, class_weight=None, dual=False, fit_intercept=True,\n",
       "          intercept_scaling=1, max_iter=100, multi_class='ovr',\n",
       "          n_jobs=None, penalty='l2', random_state=0, solver='newton-cg',\n",
       "          tol=0.0001, verbose=0, warm_start=False)"
      ]
     },
     "execution_count": 13,
     "metadata": {},
     "output_type": "execute_result"
    }
   ],
   "source": [
    "from sklearn.linear_model import LogisticRegression\n",
    "\n",
    "# Declare the classifier\n",
    "clf = LogisticRegression(multi_class='ovr', solver='newton-cg', C=0.01, random_state=0)\n",
    "\n",
    "# Train the classifier\n",
    "clf.fit(X, y)"
   ]
  },
  {
   "cell_type": "markdown",
   "metadata": {},
   "source": [
    "# Plot distributions"
   ]
  },
  {
   "cell_type": "code",
   "execution_count": 14,
   "metadata": {},
   "outputs": [
    {
     "data": {
      "image/png": "[encoded data removed]",
      "text/plain": [
       "<Figure size 720x360 with 1 Axes>"
      ]
     },
     "metadata": {
      "needs_background": "light"
     },
     "output_type": "display_data"
    }
   ],
   "source": [
    "# Get the distribution\n",
    "distribution = get_distribution(clf, X, y, \"Ethnicity\", 'CL0')\n",
    "\n",
    "# Plot the distribution\n",
    "plot_distribution(distribution, \"Ethnicity\", 'CL0')\n",
    "#save the figure\n",
    "plt.savefig('/media/user/2FD84FB396A78049/lwqa/pics/lg-drug-cl0-Ethnicity.png', dpi=300)\n",
    "plt.show()"
   ]
  },
  {
   "cell_type": "markdown",
   "metadata": {},
   "source": [
    "# drosophila_enhancers' distributions"
   ]
  },
  {
   "cell_type": "markdown",
   "metadata": {},
   "source": [
    "# Load data"
   ]
  },
  {
   "cell_type": "code",
   "execution_count": 15,
   "metadata": {},
   "outputs": [],
   "source": [
    "# import pandas as pd\n",
    "\n",
    "# Load the data\n",
    "df = pd.read_csv('drosophila_enhancers.csv', header=1)\n",
    "\n",
    "# Specify the name of the columns\n",
    "df.columns = ['positive','H3_c12','H3_c14a','H3_c14c','H3_c8','H3K18ac_c12','H3K18ac_c14a','H3K18ac_c14c',\n",
    "              'H3K18ac_c8','H3K27ac_c12','H3K27ac_c14a','H3K27ac_c14c','H3K27ac_c8','H3K27me3_c12','H3K27me3_c14a','H3K27me3_c14c','H3K36me3_c12',\n",
    "              'H3K36me3_c14a','H3K36me3_c14c','H3K4me1_c12','H3K4me1_c14a','H3K4me1_c14c','H3K4me1_c8','H3K4me3_c12','H3K4me3_c14a','H3K4me3_c14c',\n",
    "              'H3K4me3_c8','H3K9ac_c12','H3K9ac_c14a','H3K9ac_c14c','H3K9ac_c8','H4K5ac_c12','H4K5ac_c14a','H4K5ac_c14c','H4K5ac_c8','H4K8ac_c12',\n",
    "              'H4K8ac_c14a','H4K8ac_c14c','H4K8ac_c8','input_c12','input_c14a','input_c14c','input_c8','wt_H3','wt_H3K18ac','wt_H3K4me1','wt_ZLD','bcd1',\n",
    "              'bcd2','cad1','D1','da2','dl3','ftz3','gt2','h1','h2','hb1','hb2','hkb1','hkb2','hkb3','kni1','kni2','kr1','kr2','mad2','med2','prdBQ','prdFQ',\n",
    "              'run1','run2','shn2','shn3','slp1','sna1','sna2','tll1','twi1','twi2','z2']\n",
    "\n",
    "# Features\n",
    "features = ['H3_c12','H3_c14a','H3_c14c','H3_c8','H3K18ac_c12','H3K18ac_c14a','H3K18ac_c14c',\n",
    "              'H3K18ac_c8','H3K27ac_c12','H3K27ac_c14a','H3K27ac_c14c','H3K27ac_c8','H3K27me3_c12','H3K27me3_c14a','H3K27me3_c14c','H3K36me3_c12',\n",
    "              'H3K36me3_c14a','H3K36me3_c14c','H3K4me1_c12','H3K4me1_c14a','H3K4me1_c14c','H3K4me1_c8','H3K4me3_c12','H3K4me3_c14a','H3K4me3_c14c',\n",
    "              'H3K4me3_c8','H3K9ac_c12','H3K9ac_c14a','H3K9ac_c14c','H3K9ac_c8','H4K5ac_c12','H4K5ac_c14a','H4K5ac_c14c','H4K5ac_c8','H4K8ac_c12',\n",
    "              'H4K8ac_c14a','H4K8ac_c14c','H4K8ac_c8','input_c12','input_c14a','input_c14c','input_c8','wt_H3','wt_H3K18ac','wt_H3K4me1','wt_ZLD','bcd1',\n",
    "              'bcd2','cad1','D1','da2','dl3','ftz3','gt2','h1','h2','hb1','hb2','hkb1','hkb2','hkb3','kni1','kni2','kr1','kr2','mad2','med2','prdBQ','prdFQ',\n",
    "              'run1','run2','shn2','shn3','slp1','sna1','sna2','tll1','twi1','twi2','z2']\n",
    "# Get the features\n",
    "X = df[features].values\n",
    "\n",
    "# Get the target\n",
    "y = df['positive'].values"
   ]
  },
  {
   "cell_type": "markdown",
   "metadata": {},
   "source": [
    "# Data preprocessing"
   ]
  },
  {
   "cell_type": "code",
   "execution_count": 16,
   "metadata": {},
   "outputs": [],
   "source": [
    "# Standardize the features\n",
    "X = scaler.fit_transform(X)"
   ]
  },
  {
   "cell_type": "markdown",
   "metadata": {},
   "source": [
    "# Hyperparameter tuning"
   ]
  },
  {
   "cell_type": "code",
   "execution_count": 17,
   "metadata": {},
   "outputs": [
    {
     "name": "stdout",
     "output_type": "stream",
     "text": [
      "{'clf__multi_class': 'ovr', 'clf__solver': 'liblinear', 'clf__C': 0.01} Pipeline(memory=None,\n",
      "     steps=[('StandardScaler', StandardScaler(copy=True, with_mean=True, with_std=True)), ('clf', LogisticRegression(C=0.01, class_weight=None, dual=False, fit_intercept=True,\n",
      "          intercept_scaling=1, max_iter=100, multi_class='ovr',\n",
      "          n_jobs=None, penalty='l2', random_state=0, solver='liblinear',\n",
      "          tol=0.0001, verbose=0, warm_start=False))])\n"
     ]
    }
   ],
   "source": [
    "tuning(X,y)"
   ]
  },
  {
   "cell_type": "markdown",
   "metadata": {},
   "source": [
    "# Fit X and y"
   ]
  },
  {
   "cell_type": "code",
   "execution_count": 18,
   "metadata": {},
   "outputs": [
    {
     "data": {
      "text/plain": [
       "LogisticRegression(C=0.01, class_weight=None, dual=False, fit_intercept=True,\n",
       "          intercept_scaling=1, max_iter=100, multi_class='ovr',\n",
       "          n_jobs=None, penalty='l2', random_state=0, solver='liblinear',\n",
       "          tol=0.0001, verbose=0, warm_start=False)"
      ]
     },
     "execution_count": 18,
     "metadata": {},
     "output_type": "execute_result"
    }
   ],
   "source": [
    "from sklearn.linear_model import LogisticRegression\n",
    "\n",
    "# Declare the classifier\n",
    "clf = LogisticRegression(multi_class='ovr', solver='liblinear', C=0.01, random_state=0)\n",
    "\n",
    "# Train the classifier\n",
    "clf.fit(X, y)"
   ]
  },
  {
   "cell_type": "markdown",
   "metadata": {},
   "source": [
    "# Plot distributions"
   ]
  },
  {
   "cell_type": "code",
   "execution_count": 19,
   "metadata": {},
   "outputs": [
    {
     "data": {
      "image/png": "[encoded data removed]",
      "text/plain": [
       "<Figure size 720x360 with 1 Axes>"
      ]
     },
     "metadata": {
      "needs_background": "light"
     },
     "output_type": "display_data"
    }
   ],
   "source": [
    "# Get the distribution\n",
    "distribution = get_distribution(clf, X, y, 'H3K36me3_c14c', 1)\n",
    "\n",
    "# Plot the distribution\n",
    "plot_distribution(distribution, 'H3K36me3_c14c', 1)\n",
    "plt.savefig('/media/user/2FD84FB396A78049/lwqa/pics/lg-drosophila_enhancers-1-H3K36me3_c14c.png', dpi=300)\n",
    "plt.show()"
   ]
  },
  {
   "cell_type": "markdown",
   "metadata": {},
   "source": [
    "# alternative_splicing' distributions"
   ]
  },
  {
   "cell_type": "markdown",
   "metadata": {},
   "source": [
    "# Load data"
   ]
  },
  {
   "cell_type": "code",
   "execution_count": 20,
   "metadata": {},
   "outputs": [],
   "source": [
    "import pandas as pd\n",
    "\n",
    "# Load the data\n",
    "df = pd.read_csv('alternative_splicing.csv', header=1)\n",
    "\n",
    "# Specify the name of the columns\n",
    "df.columns = ['label','MYC_body_UTA','CTCF_body_UTA','POLR2A_body_UTA','ARID3A_body_Stanford','ATF1_body_HMS','ATF3_body_HMS','BACH1_body_Stanford',\n",
    "              'BDP1_body_HMS','BHLHE40_body_Stanford','BRF1_body_HMS','BRF2_body_HMS','SMARCA4_body_Stanford','CCNT2_body_HMS','CUX1_body_Stanford',\n",
    "              'FOS_body_Yale','CEBPB_body_Stanford','CHD2_body_Stanford','JUN_body_Stanford','JUN_body_Yale','JUN_body_Yale.1','JUN_body_Yale.2',\n",
    "              'JUN_body_Stanford.1','JUN_body_Yale.3','MYC_body_Yale','MYC_body_Yale.1','MYC_body_Stanford','MYC_body_Yale.2','MYC_body_Stanford.1',\n",
    "              'MYC_body_Yale.3','RCOR1_body_Stanford','RCOR1_body_Stanford.1','E2F4_body_USC','CTCF_body_Stanford','E2F6_body_USC','ELK1_body_Stanford',\n",
    "              'GATA1_body_USC','GATA1_body_Stanford','GATA2_body_USC','GTF2B_body_HMS','GTF2F1_body_Stanford','HCFC1_body_Stanford','HMGN3_body_HMS',\n",
    "              'SMARCB1_body_Stanford','IRF1_body_Stanford','IRF1_body_Stanford.1','IRF1_body_Stanford.2','IRF1_body_Stanford.3','TRIM28_body_USC','JUND_body_Stanford',\n",
    "              'MAFF_body_Stanford','MAFK_body_Stanford','MAX_body_Stanford','MAX_body_Yale','MXI1_body_Stanford','NFE2_body_Yale','NFYA_body_Stanford','NFYB_body_Stanford',\n",
    "              'NRF1_body_Stanford','EP300_body_Stanford','EP300_body_Stanford.1','POLR2A_body_Yale','POLR2A_body_Yale.1','POLR2A_body_Stanford',\n",
    "              'POLR2A_body_Yale.2','POLR2A_body_Stanford.1','POLR2A_body_Yale.3','POLR2AphosphoS2_body_Stanford','POLR2AphosphoS2_body_Stanford.1','POLR3G_body_Stanford',\n",
    "              'RAD21_body_Yale','RFX5_body_Stanford','POLR3A_body_HMS','SETDB1_body_USC','SETDB1_body_USC.1','SIRT6_body_HMS','STAT1_body_Yale','SMC3_body_Stanford',\n",
    "              'STAT1_body_Yale.1','STAT1_body_Stanford','STAT1_body_Stanford.1','STAT2_body_Yale','STAT2_body_Yale.1','TAL1_body_Stanford','TBL1XR1_body_Stanford','TBL1XR1_body_Stanford.1',\n",
    "              'TBP_body_Stanford','GTF3C2_body_HMS','NR2C2_body_USC','UBTF_body_Stanford','UBTF_body_Stanford.1','USF2_body_Stanford','XRCC4_body_Yale','YY1',\n",
    "              'ZNF143_body_Stanford','ZNF263_body_USC','ZNF274_body_USC','ZNF274_body_USC.1','ZNF384_body_Stanford','ZMIZ1_body_Stanford','eGFP.FOS_body_UChicago',\n",
    "              'eGFP.GATA2_body_UChicago','eGFP.HDAC8_body_UChicago','eGFP.JUNB_body_UChicago','eGFP.JUND_body_UChicago','eGFP.NR4A1_body_UChicago','CTCF_body_UW',\n",
    "              'CTCF_body_UW.1','CHD1_body_ENCODE','CTCF_body_ENCODE','EZH2_body_ENCODE','HDAC1_body_ENCODE','HDAC2_body_ENCODE','HDAC6_body_ENCODE','EP300_body_ENCODE',\n",
    "              'PHF8_body_ENCODE','KDM5B_body_ENCODE','POLR2A_body_ENCODE','RBBP5_body_ENCODE','SAP30_body_ENCODE','ATF3_body_ENCODE','BCL3_body_ENCODE','CBX3_body_ENCODE',\n",
    "              'CEBPB_body_ENCODE','CTCF_body_ENCODE.1','CTCFL_body_ENCODE','E2F6_body_ENCODE','EGR1_body_ENCODE','ELF1_body_ENCODE','ETS1_body_ENCODE','FOSL1_body_ENCODE',\n",
    "              'GABPA_body_ENCODE','GATA2_body_ENCODE','HDAC2_body_ENCODE.1','MAX_body_ENCODE','MEF2A_body_ENCODE','NR2F2_body_ENCODE','REST_body_ENCODE','PML_body_ENCODE',\n",
    "              'POLR2AphosphoS5_body_ENCODE','POLR2A_body_ENCODE.1','SPI1_body_ENCODE','RAD21_body_ENCODE','SIN3A_body_ENCODE','SIX5_body_ENCODE',\n",
    "              'SP1_body_ENCODE','SP2_body_ENCODE','SRF_body_ENCODE','STAT5A_body_ENCODE','TAF1_body_ENCODE','TAF7_body_ENCODE','TEAD4_body_ENCODE','THAP1_body_ENCODE',\n",
    "              'USF1_body_ENCODE','YY1_body_ENCODE','YY1_body_ENCODE.1','ZBTB33_body_ENCODE','ZBTB7A_body_ENCODE','ARID3A_body_ENCODE','ATF1_body_ENCODE','ATF3_body_ENCODE.1',\n",
    "              'BACH1_body_ENCODE','BDP1_body_ENCODE','BHLHE40_body_ENCODE','BRF1_body_ENCODE','BRF2_body_ENCODE','SMARCA4_body_ENCODE','CCNT2_body_ENCODE',\n",
    "              'CEBPB_body_ENCODE.1','FOS_body_ENCODE','CHD2_body_ENCODE','JUN_body_ENCODE','JUN_body_ENCODE.1','JUN_body_ENCODE.2','JUN_body_ENCODE.3',\n",
    "              'JUN_body_ENCODE.4','MYC_body_ENCODE','MYC_body_ENCODE.1','MYC_body_ENCODE.2','MYC_body_ENCODE.3','MYC_body_ENCODE.4','MYC_body_ENCODE.5',\n",
    "              'RCOR1_body_ENCODE','RCOR1_body_ENCODE.1','CTCF_body_ENCODE.2','E2F4_body_ENCODE','E2F6_body_ENCODE.1','ELK1_body_ENCODE','GATA1_body_ENCODE',\n",
    "              'GATA2_body_ENCODE.1','GTF2B_body_ENCODE','GTF2F1_body_ENCODE','HMGN3_body_ENCODE','SMARCB1_body_ENCODE','IRF1_body_ENCODE','IRF1_body_ENCODE.1',\n",
    "              'IRF1_body_ENCODE.2','IRF1_body_ENCODE.3','JUND_body_ENCODE','TRIM28_body_ENCODE','MAFF_body_ENCODE','MAFK_body_ENCODE','MAX_body_ENCODE.1',\n",
    "              'MXI1_body_ENCODE','NFE2_body_ENCODE','NFYA_body_ENCODE','NFYB_body_ENCODE','NRF1_body_ENCODE','EP300_body_ENCODE.1','POLR2A_body_ENCODE.2','POLR2A_body_ENCODE.3',\n",
    "              'POLR2A_body_ENCODE.4','POLR2A_body_ENCODE.5','POLR2A_body_ENCODE.6','POLR2A_body_ENCODE.7','POLR2AphosphoS2_body_ENCODE','POLR3G_body_ENCODE','RAD21_body_ENCODE.1',\n",
    "              'RFX5_body_ENCODE','POLR3A_body_ENCODE','SETDB1_body_ENCODE','SETDB1_body_ENCODE.1','SIRT6_body_ENCODE','SMC3_body_ENCODE','STAT1_body_ENCODE','STAT1_body_ENCODE.1',\n",
    "              'STAT1_body_ENCODE.2','STAT1_body_ENCODE.3','STAT2_body_ENCODE','STAT2_body_ENCODE.1','TAL1_body_ENCODE','TBL1XR1_body_ENCODE','TBL1XR1_body_ENCODE.1','TBP_body_ENCODE',\n",
    "              'GTF3C2_body_ENCODE','NR2C2_body_ENCODE','UBTF_body_ENCODE','UBTF_body_ENCODE.1','USF2_body_ENCODE','YY1_body_ENCODE.2','ZNF143_body_ENCODE','ZNF263_body_ENCODE','ZNF274_body_ENCODE',\n",
    "              'ZNF274_body_ENCODE.1','MYC_body_ENCODE.6','CTCF_body_ENCODE.3','POLR2A_body_ENCODE.8','CTCF_body_ENCODE.4','POLR2AphosphoS2_body_ENCODE.1','eGFP.FOS_body_ENCODE',\n",
    "              'eGFP.GATA2_body_ENCODE','eGFP.HDAC8_body_ENCODE','eGFP.JUNB_body_ENCODE','eGFP.JUND_body_ENCODE','H3K27ac_body_Broad','H3K27me3_body_Broad','H3K36me3_body_Broad','H3K4me1_body_Broad',\n",
    "              'H3K4me2_body_Broad','H3K4me3_body_Broad','H3K79me2_body_Broad','H3K9ac','H3K9me1_body_Broad','H3K9me3_body_Broad','H4K','H3K27me3_body_UW',\n",
    "              'H3K27me3_body_UW.1','H3K36me3_body_UW','H3K36me3_body_UW.1','H3K4me3_body_UW','H3K4me3_body_UW.1']\n",
    "\n",
    "# Features\n",
    "features = ['MYC_body_UTA','CTCF_body_UTA','POLR2A_body_UTA','ARID3A_body_Stanford','ATF1_body_HMS','ATF3_body_HMS','BACH1_body_Stanford',\n",
    "              'BDP1_body_HMS','BHLHE40_body_Stanford','BRF1_body_HMS','BRF2_body_HMS','SMARCA4_body_Stanford','CCNT2_body_HMS','CUX1_body_Stanford',\n",
    "              'FOS_body_Yale','CEBPB_body_Stanford','CHD2_body_Stanford','JUN_body_Stanford','JUN_body_Yale','JUN_body_Yale.1','JUN_body_Yale.2',\n",
    "              'JUN_body_Stanford.1','JUN_body_Yale.3','MYC_body_Yale','MYC_body_Yale.1','MYC_body_Stanford','MYC_body_Yale.2','MYC_body_Stanford.1',\n",
    "              'MYC_body_Yale.3','RCOR1_body_Stanford','RCOR1_body_Stanford.1','E2F4_body_USC','CTCF_body_Stanford','E2F6_body_USC','ELK1_body_Stanford',\n",
    "              'GATA1_body_USC','GATA1_body_Stanford','GATA2_body_USC','GTF2B_body_HMS','GTF2F1_body_Stanford','HCFC1_body_Stanford','HMGN3_body_HMS',\n",
    "              'SMARCB1_body_Stanford','IRF1_body_Stanford','IRF1_body_Stanford.1','IRF1_body_Stanford.2','IRF1_body_Stanford.3','TRIM28_body_USC','JUND_body_Stanford',\n",
    "              'MAFF_body_Stanford','MAFK_body_Stanford','MAX_body_Stanford','MAX_body_Yale','MXI1_body_Stanford','NFE2_body_Yale','NFYA_body_Stanford','NFYB_body_Stanford',\n",
    "              'NRF1_body_Stanford','EP300_body_Stanford','EP300_body_Stanford.1','POLR2A_body_Yale','POLR2A_body_Yale.1','POLR2A_body_Stanford',\n",
    "              'POLR2A_body_Yale.2','POLR2A_body_Stanford.1','POLR2A_body_Yale.3','POLR2AphosphoS2_body_Stanford','POLR2AphosphoS2_body_Stanford.1','POLR3G_body_Stanford',\n",
    "              'RAD21_body_Yale','RFX5_body_Stanford','POLR3A_body_HMS','SETDB1_body_USC','SETDB1_body_USC.1','SIRT6_body_HMS','STAT1_body_Yale','SMC3_body_Stanford',\n",
    "              'STAT1_body_Yale.1','STAT1_body_Stanford','STAT1_body_Stanford.1','STAT2_body_Yale','STAT2_body_Yale.1','TAL1_body_Stanford','TBL1XR1_body_Stanford','TBL1XR1_body_Stanford.1',\n",
    "              'TBP_body_Stanford','GTF3C2_body_HMS','NR2C2_body_USC','UBTF_body_Stanford','UBTF_body_Stanford.1','USF2_body_Stanford','XRCC4_body_Yale','YY1',\n",
    "              'ZNF143_body_Stanford','ZNF263_body_USC','ZNF274_body_USC','ZNF274_body_USC.1','ZNF384_body_Stanford','ZMIZ1_body_Stanford','eGFP.FOS_body_UChicago',\n",
    "              'eGFP.GATA2_body_UChicago','eGFP.HDAC8_body_UChicago','eGFP.JUNB_body_UChicago','eGFP.JUND_body_UChicago','eGFP.NR4A1_body_UChicago','CTCF_body_UW',\n",
    "              'CTCF_body_UW.1','CHD1_body_ENCODE','CTCF_body_ENCODE','EZH2_body_ENCODE','HDAC1_body_ENCODE','HDAC2_body_ENCODE','HDAC6_body_ENCODE','EP300_body_ENCODE',\n",
    "              'PHF8_body_ENCODE','KDM5B_body_ENCODE','POLR2A_body_ENCODE','RBBP5_body_ENCODE','SAP30_body_ENCODE','ATF3_body_ENCODE','BCL3_body_ENCODE','CBX3_body_ENCODE',\n",
    "              'CEBPB_body_ENCODE','CTCF_body_ENCODE.1','CTCFL_body_ENCODE','E2F6_body_ENCODE','EGR1_body_ENCODE','ELF1_body_ENCODE','ETS1_body_ENCODE','FOSL1_body_ENCODE',\n",
    "              'GABPA_body_ENCODE','GATA2_body_ENCODE','HDAC2_body_ENCODE.1','MAX_body_ENCODE','MEF2A_body_ENCODE','NR2F2_body_ENCODE','REST_body_ENCODE','PML_body_ENCODE',\n",
    "              'POLR2AphosphoS5_body_ENCODE','POLR2A_body_ENCODE.1','SPI1_body_ENCODE','RAD21_body_ENCODE','SIN3A_body_ENCODE','SIX5_body_ENCODE',\n",
    "              'SP1_body_ENCODE','SP2_body_ENCODE','SRF_body_ENCODE','STAT5A_body_ENCODE','TAF1_body_ENCODE','TAF7_body_ENCODE','TEAD4_body_ENCODE','THAP1_body_ENCODE',\n",
    "              'USF1_body_ENCODE','YY1_body_ENCODE','YY1_body_ENCODE.1','ZBTB33_body_ENCODE','ZBTB7A_body_ENCODE','ARID3A_body_ENCODE','ATF1_body_ENCODE','ATF3_body_ENCODE.1',\n",
    "              'BACH1_body_ENCODE','BDP1_body_ENCODE','BHLHE40_body_ENCODE','BRF1_body_ENCODE','BRF2_body_ENCODE','SMARCA4_body_ENCODE','CCNT2_body_ENCODE',\n",
    "              'CEBPB_body_ENCODE.1','FOS_body_ENCODE','CHD2_body_ENCODE','JUN_body_ENCODE','JUN_body_ENCODE.1','JUN_body_ENCODE.2','JUN_body_ENCODE.3',\n",
    "              'JUN_body_ENCODE.4','MYC_body_ENCODE','MYC_body_ENCODE.1','MYC_body_ENCODE.2','MYC_body_ENCODE.3','MYC_body_ENCODE.4','MYC_body_ENCODE.5',\n",
    "              'RCOR1_body_ENCODE','RCOR1_body_ENCODE.1','CTCF_body_ENCODE.2','E2F4_body_ENCODE','E2F6_body_ENCODE.1','ELK1_body_ENCODE','GATA1_body_ENCODE',\n",
    "              'GATA2_body_ENCODE.1','GTF2B_body_ENCODE','GTF2F1_body_ENCODE','HMGN3_body_ENCODE','SMARCB1_body_ENCODE','IRF1_body_ENCODE','IRF1_body_ENCODE.1',\n",
    "              'IRF1_body_ENCODE.2','IRF1_body_ENCODE.3','JUND_body_ENCODE','TRIM28_body_ENCODE','MAFF_body_ENCODE','MAFK_body_ENCODE','MAX_body_ENCODE.1',\n",
    "              'MXI1_body_ENCODE','NFE2_body_ENCODE','NFYA_body_ENCODE','NFYB_body_ENCODE','NRF1_body_ENCODE','EP300_body_ENCODE.1','POLR2A_body_ENCODE.2','POLR2A_body_ENCODE.3',\n",
    "              'POLR2A_body_ENCODE.4','POLR2A_body_ENCODE.5','POLR2A_body_ENCODE.6','POLR2A_body_ENCODE.7','POLR2AphosphoS2_body_ENCODE','POLR3G_body_ENCODE','RAD21_body_ENCODE.1',\n",
    "              'RFX5_body_ENCODE','POLR3A_body_ENCODE','SETDB1_body_ENCODE','SETDB1_body_ENCODE.1','SIRT6_body_ENCODE','SMC3_body_ENCODE','STAT1_body_ENCODE','STAT1_body_ENCODE.1',\n",
    "              'STAT1_body_ENCODE.2','STAT1_body_ENCODE.3','STAT2_body_ENCODE','STAT2_body_ENCODE.1','TAL1_body_ENCODE','TBL1XR1_body_ENCODE','TBL1XR1_body_ENCODE.1','TBP_body_ENCODE',\n",
    "              'GTF3C2_body_ENCODE','NR2C2_body_ENCODE','UBTF_body_ENCODE','UBTF_body_ENCODE.1','USF2_body_ENCODE','YY1_body_ENCODE.2','ZNF143_body_ENCODE','ZNF263_body_ENCODE','ZNF274_body_ENCODE',\n",
    "              'ZNF274_body_ENCODE.1','MYC_body_ENCODE.6','CTCF_body_ENCODE.3','POLR2A_body_ENCODE.8','CTCF_body_ENCODE.4','POLR2AphosphoS2_body_ENCODE.1','eGFP.FOS_body_ENCODE',\n",
    "              'eGFP.GATA2_body_ENCODE','eGFP.HDAC8_body_ENCODE','eGFP.JUNB_body_ENCODE','eGFP.JUND_body_ENCODE','H3K27ac_body_Broad','H3K27me3_body_Broad','H3K36me3_body_Broad','H3K4me1_body_Broad',\n",
    "              'H3K4me2_body_Broad','H3K4me3_body_Broad','H3K79me2_body_Broad','H3K9ac','H3K9me1_body_Broad','H3K9me3_body_Broad','H4K','H3K27me3_body_UW',\n",
    "              'H3K27me3_body_UW.1','H3K36me3_body_UW','H3K36me3_body_UW.1','H3K4me3_body_UW','H3K4me3_body_UW.1']\n",
    "# Get the features\n",
    "X = df[features].values\n",
    "\n",
    "# Get the target\n",
    "y = df['label'].values"
   ]
  },
  {
   "cell_type": "markdown",
   "metadata": {},
   "source": [
    "# Data preprocessing"
   ]
  },
  {
   "cell_type": "code",
   "execution_count": 21,
   "metadata": {},
   "outputs": [],
   "source": [
    "# Standardize the features\n",
    "X = scaler.fit_transform(X)"
   ]
  },
  {
   "cell_type": "markdown",
   "metadata": {},
   "source": [
    "# Hyperparameter tuning"
   ]
  },
  {
   "cell_type": "code",
   "execution_count": 22,
   "metadata": {},
   "outputs": [
    {
     "name": "stdout",
     "output_type": "stream",
     "text": [
      "{'clf__multi_class': 'multinomial', 'clf__solver': 'lbfgs', 'clf__C': 0.001} Pipeline(memory=None,\n",
      "     steps=[('StandardScaler', StandardScaler(copy=True, with_mean=True, with_std=True)), ('clf', LogisticRegression(C=0.001, class_weight=None, dual=False, fit_intercept=True,\n",
      "          intercept_scaling=1, max_iter=100, multi_class='multinomial',\n",
      "          n_jobs=None, penalty='l2', random_state=0, solver='lbfgs',\n",
      "          tol=0.0001, verbose=0, warm_start=False))])\n"
     ]
    }
   ],
   "source": [
    "tuning(X,y)"
   ]
  },
  {
   "cell_type": "markdown",
   "metadata": {},
   "source": [
    "# Fit X and y"
   ]
  },
  {
   "cell_type": "code",
   "execution_count": 23,
   "metadata": {},
   "outputs": [
    {
     "data": {
      "text/plain": [
       "LogisticRegression(C=0.001, class_weight=None, dual=False, fit_intercept=True,\n",
       "          intercept_scaling=1, max_iter=100, multi_class='multinomial',\n",
       "          n_jobs=None, penalty='l2', random_state=0, solver='lbfgs',\n",
       "          tol=0.0001, verbose=0, warm_start=False)"
      ]
     },
     "execution_count": 23,
     "metadata": {},
     "output_type": "execute_result"
    }
   ],
   "source": [
    "from sklearn.linear_model import LogisticRegression\n",
    "\n",
    "# Declare the classifier\n",
    "clf = LogisticRegression(multi_class='multinomial', solver='lbfgs', C=0.001, random_state=0)\n",
    "\n",
    "# Train the classifier\n",
    "clf.fit(X, y)"
   ]
  },
  {
   "cell_type": "markdown",
   "metadata": {},
   "source": [
    "# Plot distributions"
   ]
  },
  {
   "cell_type": "code",
   "execution_count": 24,
   "metadata": {},
   "outputs": [
    {
     "data": {
      "image/png": "[encoded data removed]",
      "text/plain": [
       "<Figure size 720x360 with 1 Axes>"
      ]
     },
     "metadata": {
      "needs_background": "light"
     },
     "output_type": "display_data"
    }
   ],
   "source": [
    "# Get the distribution\n",
    "distribution = get_distribution(clf, X, y, 'YY1', 1)\n",
    "\n",
    "# Plot the distribution\n",
    "plot_distribution(distribution, 'YY1', 1)\n",
    "plt.savefig('/media/user/2FD84FB396A78049/lwqa/pics/lg-alternative_splicing-1-YY1.png', dpi=300)\n",
    "plt.show()"
   ]
  },
  {
   "cell_type": "markdown",
   "metadata": {},
   "source": [
    "# 20 newsgroups' distributions"
   ]
  },
  {
   "cell_type": "markdown",
   "metadata": {},
   "source": [
    "# Load data"
   ]
  },
  {
   "cell_type": "code",
   "execution_count": 25,
   "metadata": {},
   "outputs": [],
   "source": [
    "from sklearn.datasets import fetch_20newsgroups\n",
    "from sklearn.feature_extraction.text import TfidfVectorizer\n",
    "import numpy as np\n",
    "import pandas as pd\n",
    "\n",
    "#Get the three classes\n",
    "categories = ['talk.politics.guns', 'rec.sport.baseball','comp.graphics']\n",
    "\n",
    "# Load 20newsgroups\n",
    "newsgroups_train = fetch_20newsgroups(subset='train',categories=categories)\n",
    "\n",
    "# Select tfidf feature\n",
    "vectorizer = TfidfVectorizer() \n",
    "vectors = vectorizer.fit_transform(newsgroups_train.data)\n",
    "\n",
    "#Get array\n",
    "a = vectors.toarray()\n",
    "b = newsgroups_train.target\n",
    "c = newsgroups_train.target_names\n",
    "\n",
    "#Transform target\n",
    "b=[str(x) for x in b]\n",
    "for i in range(0,1727):\n",
    "    if b[i] == '0':\n",
    "        b[i] = 'comp.graphics'\n",
    "    if b[i] == '1':\n",
    "        b[i] = 'rec.sport.baseball'\n",
    "    if b[i] == '2':\n",
    "        b[i] = 'talk.politics.guns'\n",
    "        \n",
    "#Get dataframe\n",
    "b = np.array(b)\n",
    "a = np.c_[b,a]\n",
    "df = pd.DataFrame(a)\n",
    "\n",
    "#Specify the name of the features\n",
    "list_=['class']\n",
    "for i in range(0,30664):\n",
    "    str(i)\n",
    "    list_.append('w'+str(i))\n",
    "    \n",
    "df.columns = list_\n",
    "features = list_[1:]\n",
    "\n",
    "# Get the features\n",
    "X = df[features].values\n",
    "# Get the target\n",
    "y = df['class'].values"
   ]
  },
  {
   "cell_type": "markdown",
   "metadata": {},
   "source": [
    "# Data preprocessing"
   ]
  },
  {
   "cell_type": "code",
   "execution_count": 26,
   "metadata": {},
   "outputs": [
    {
     "name": "stderr",
     "output_type": "stream",
     "text": [
      "/home/user/.local/lib/python3.5/site-packages/sklearn/utils/validation.py:595: DataConversionWarning: Data with input dtype object was converted to float64 by StandardScaler.\n",
      "  warnings.warn(msg, DataConversionWarning)\n",
      "/home/user/.local/lib/python3.5/site-packages/sklearn/utils/validation.py:595: DataConversionWarning: Data with input dtype object was converted to float64 by StandardScaler.\n",
      "  warnings.warn(msg, DataConversionWarning)\n"
     ]
    }
   ],
   "source": [
    "# Standardize the features\n",
    "X = scaler.fit_transform(X)\n",
    "\n",
    "# Encode the target\n",
    "y = le.fit_transform(y)"
   ]
  },
  {
   "cell_type": "markdown",
   "metadata": {},
   "source": [
    "# Hyperparameter tuning"
   ]
  },
  {
   "cell_type": "code",
   "execution_count": 27,
   "metadata": {},
   "outputs": [
    {
     "name": "stderr",
     "output_type": "stream",
     "text": [
      "/home/user/.local/lib/python3.5/site-packages/sklearn/model_selection/_search.py:841: DeprecationWarning: The default of the `iid` parameter will change from True to False in version 0.22 and will be removed in 0.24. This will change numeric results when test-set sizes are unequal.\n",
      "  DeprecationWarning)\n"
     ]
    },
    {
     "name": "stdout",
     "output_type": "stream",
     "text": [
      "{'clf__multi_class': 'ovr', 'clf__solver': 'lbfgs', 'clf__C': 10000} Pipeline(memory=None,\n",
      "     steps=[('StandardScaler', StandardScaler(copy=True, with_mean=True, with_std=True)), ('clf', LogisticRegression(C=10000, class_weight=None, dual=False, fit_intercept=True,\n",
      "          intercept_scaling=1, max_iter=100, multi_class='ovr',\n",
      "          n_jobs=None, penalty='l2', random_state=0, solver='lbfgs',\n",
      "          tol=0.0001, verbose=0, warm_start=False))])\n"
     ]
    }
   ],
   "source": [
    "tuning(X,y)"
   ]
  },
  {
   "cell_type": "markdown",
   "metadata": {},
   "source": [
    "# Fit X and y"
   ]
  },
  {
   "cell_type": "code",
   "execution_count": 28,
   "metadata": {},
   "outputs": [
    {
     "data": {
      "text/plain": [
       "LogisticRegression(C=10000, class_weight=None, dual=False, fit_intercept=True,\n",
       "          intercept_scaling=1, max_iter=100, multi_class='ovr',\n",
       "          n_jobs=None, penalty='l2', random_state=0, solver='lbfgs',\n",
       "          tol=0.0001, verbose=0, warm_start=False)"
      ]
     },
     "execution_count": 28,
     "metadata": {},
     "output_type": "execute_result"
    }
   ],
   "source": [
    "from sklearn.linear_model import LogisticRegression\n",
    "\n",
    "# Declare the classifier\n",
    "clf = LogisticRegression(multi_class='ovr', solver='lbfgs', C=10000, random_state=0)\n",
    "\n",
    "# Train the classifier\n",
    "clf.fit(X, y)"
   ]
  },
  {
   "cell_type": "markdown",
   "metadata": {},
   "source": [
    "# Plot distributions"
   ]
  },
  {
   "cell_type": "code",
   "execution_count": 29,
   "metadata": {},
   "outputs": [
    {
     "data": {
      "image/png": "[encoded data removed]",
      "text/plain": [
       "<Figure size 720x360 with 1 Axes>"
      ]
     },
     "metadata": {
      "needs_background": "light"
     },
     "output_type": "display_data"
    }
   ],
   "source": [
    "# Get the distribution\n",
    "distribution = get_distribution(clf, X, y, \"w25698\", \"comp.graphics\")#software\n",
    "\n",
    "# Plot the distribution\n",
    "plot_distribution(distribution, \"w25698\", \"comp.graphics\")\n",
    "plt.savefig('/media/user/2FD84FB396A78049/lwqa/pics/lg-20news-comp-software.png', dpi=300)\n",
    "plt.show()"
   ]
  },
  {
   "cell_type": "markdown",
   "metadata": {},
   "source": [
    "# Spambase' distribution"
   ]
  },
  {
   "cell_type": "markdown",
   "metadata": {},
   "source": [
    "# Load data"
   ]
  },
  {
   "cell_type": "code",
   "execution_count": 30,
   "metadata": {},
   "outputs": [],
   "source": [
    "import pandas as pd\n",
    "\n",
    "# Load the data\n",
    "df = pd.read_csv('spambase.data', header=None)\n",
    "\n",
    "# Specify the name of the columns\n",
    "df.columns = ['word_freq_make', 'word_freq_address', 'word_freq_all', 'word_freq_3d', 'word_freq_our', 'word_freq_over', 'word_freq_remove', 'word_freq_internet', 'word_freq_order', 'word_freq_mail', 'word_freq_receive', 'word_freq_will', 'word_freq_people', 'word_freq_report', 'word_freq_addresses', 'word_freq_free', 'word_freq_business', 'word_freq_email', 'word_freq_you', 'word_freq_credit', 'word_freq_your', 'word_freq_font', 'word_freq_000', 'word_freq_money', 'word_freq_hp', 'word_freq_hpl', 'word_freq_george', 'word_freq_650', 'word_freq_lab', 'word_freq_labs', 'word_freq_telnet', 'word_freq_857', 'word_freq_data', 'word_freq_415', 'word_freq_85', 'word_freq_technology', 'word_freq_1999', 'word_freq_parts', 'word_freq_pm', 'word_freq_direct', 'word_freq_cs', 'word_freq_meeting', 'word_freq_original', 'word_freq_project', 'word_freq_re', 'word_freq_edu', 'word_freq_table', 'word_freq_conference', 'char_freq_;', 'char_freq_(', 'char_freq_[', 'char_freq_!', 'char_freq_$', 'char_freq_#', 'capital_run_length_average', 'capital_run_length_longest', 'capital_run_length_total', 'class']\n",
    "\n",
    "# Features\n",
    "features = ['word_freq_make', 'word_freq_address', 'word_freq_all', 'word_freq_3d', 'word_freq_our', 'word_freq_over', 'word_freq_remove', 'word_freq_internet', 'word_freq_order', 'word_freq_mail', 'word_freq_receive', 'word_freq_will', 'word_freq_people', 'word_freq_report', 'word_freq_addresses', 'word_freq_free', 'word_freq_business', 'word_freq_email', 'word_freq_you', 'word_freq_credit', 'word_freq_your', 'word_freq_font', 'word_freq_000', 'word_freq_money', 'word_freq_hp', 'word_freq_hpl', 'word_freq_george', 'word_freq_650', 'word_freq_lab', 'word_freq_labs', 'word_freq_telnet', 'word_freq_857', 'word_freq_data', 'word_freq_415', 'word_freq_85', 'word_freq_technology', 'word_freq_1999', 'word_freq_parts', 'word_freq_pm', 'word_freq_direct', 'word_freq_cs', 'word_freq_meeting', 'word_freq_original', 'word_freq_project', 'word_freq_re', 'word_freq_edu', 'word_freq_table', 'word_freq_conference', 'char_freq_;', 'char_freq_(', 'char_freq_[', 'char_freq_!', 'char_freq_$', 'char_freq_#', 'capital_run_length_average', 'capital_run_length_longest', 'capital_run_length_total']\n",
    "\n",
    "#Specify the name of the features\n",
    "# Get the features\n",
    "X = df[features].values\n",
    "# Get the target\n",
    "y = df['class'].values"
   ]
  },
  {
   "cell_type": "markdown",
   "metadata": {},
   "source": [
    "# Data preprocessing"
   ]
  },
  {
   "cell_type": "code",
   "execution_count": 31,
   "metadata": {},
   "outputs": [],
   "source": [
    "# Standardize the features\n",
    "X = scaler.fit_transform(X)"
   ]
  },
  {
   "cell_type": "markdown",
   "metadata": {},
   "source": [
    "# Hyperparameter tuning"
   ]
  },
  {
   "cell_type": "code",
   "execution_count": 32,
   "metadata": {},
   "outputs": [
    {
     "name": "stdout",
     "output_type": "stream",
     "text": [
      "{'clf__multi_class': 'multinomial', 'clf__solver': 'newton-cg', 'clf__C': 10} Pipeline(memory=None,\n",
      "     steps=[('StandardScaler', StandardScaler(copy=True, with_mean=True, with_std=True)), ('clf', LogisticRegression(C=10, class_weight=None, dual=False, fit_intercept=True,\n",
      "          intercept_scaling=1, max_iter=100, multi_class='multinomial',\n",
      "          n_jobs=None, penalty='l2', random_state=0, solver='newton-cg',\n",
      "          tol=0.0001, verbose=0, warm_start=False))])\n"
     ]
    }
   ],
   "source": [
    "tuning(X,y)"
   ]
  },
  {
   "cell_type": "markdown",
   "metadata": {},
   "source": [
    "# Fit X and y"
   ]
  },
  {
   "cell_type": "code",
   "execution_count": 33,
   "metadata": {},
   "outputs": [
    {
     "data": {
      "text/plain": [
       "LogisticRegression(C=10, class_weight=None, dual=False, fit_intercept=True,\n",
       "          intercept_scaling=1, max_iter=100, multi_class='multinomial',\n",
       "          n_jobs=None, penalty='l2', random_state=0, solver='newton-cg',\n",
       "          tol=0.0001, verbose=0, warm_start=False)"
      ]
     },
     "execution_count": 33,
     "metadata": {},
     "output_type": "execute_result"
    }
   ],
   "source": [
    "from sklearn.linear_model import LogisticRegression\n",
    "\n",
    "# Declare the classifier\n",
    "clf = LogisticRegression(multi_class='multinomial', solver='newton-cg', C=10, random_state=0)\n",
    "\n",
    "# Train the classifier\n",
    "clf.fit(X, y)"
   ]
  },
  {
   "cell_type": "markdown",
   "metadata": {},
   "source": [
    "# Plot distributions"
   ]
  },
  {
   "cell_type": "code",
   "execution_count": 34,
   "metadata": {},
   "outputs": [
    {
     "data": {
      "image/png": "[encoded data removed]",
      "text/plain": [
       "<Figure size 720x360 with 1 Axes>"
      ]
     },
     "metadata": {
      "needs_background": "light"
     },
     "output_type": "display_data"
    }
   ],
   "source": [
    "# Get the distribution\n",
    "distribution = get_distribution(clf, X, y, 'char_freq_!', 0)\n",
    "\n",
    "# Plot the distribution\n",
    "plot_distribution(distribution, 'char_freq_!', 0)\n",
    "plt.savefig('/media/user/2FD84FB396A78049/lwqa/pics/lg-spambase-0-char_freq_!.png', dpi=300)\n",
    "plt.show()"
   ]
  },
  {
   "cell_type": "markdown",
   "metadata": {},
   "source": [
    "# MNIST's distribution"
   ]
  },
  {
   "cell_type": "markdown",
   "metadata": {},
   "source": [
    "# Load data"
   ]
  },
  {
   "cell_type": "code",
   "execution_count": 35,
   "metadata": {},
   "outputs": [],
   "source": [
    "import pandas as pd\n",
    "import numpy as np\n",
    "\n",
    "# Load the data\n",
    "df = pd.read_csv('train.csv', header=None)\n",
    "\n",
    "# Specify the name of the columns\n",
    "list_=['class']\n",
    "for i in range(0,784):\n",
    "    str(i)\n",
    "    list_.append('w'+str(i))\n",
    "    \n",
    "df.columns = list_\n",
    "features = list_[1:]\n",
    "\n",
    "# Get the features\n",
    "X = df[features].values\n",
    "# Get the target\n",
    "y = df['class'].values\n",
    "\n",
    "#Initialize a column\n",
    "a=np.zeros([X.shape[0],1])\n",
    "\n",
    "#Calculate the average of row\n",
    "for i in range(0,28):\n",
    "    b=np.mean(X[:,i*28:(i+1)*28],axis=1)\n",
    "    a=np.c_[a,b]\n",
    "    \n",
    "#Calculate the average of column\n",
    "n=0\n",
    "for i in range(0,28):\n",
    "    c=X[:,i]\n",
    "    for j in range(28,784):\n",
    "        if j%28==n:\n",
    "            c=np.c_[c,X[:,j]]\n",
    "    c=np.mean(c,axis=1)\n",
    "    a=np.c_[a,c]\n",
    "    n=n+1\n",
    "    \n",
    "#update X matrix    \n",
    "X=a[:,1:58]"
   ]
  },
  {
   "cell_type": "markdown",
   "metadata": {},
   "source": [
    "# Data preprocessing"
   ]
  },
  {
   "cell_type": "code",
   "execution_count": 36,
   "metadata": {},
   "outputs": [],
   "source": [
    "# Standardize the features\n",
    "X = scaler.fit_transform(X)"
   ]
  },
  {
   "cell_type": "markdown",
   "metadata": {},
   "source": [
    "# Hyperparameter tuning"
   ]
  },
  {
   "cell_type": "code",
   "execution_count": 37,
   "metadata": {},
   "outputs": [
    {
     "name": "stdout",
     "output_type": "stream",
     "text": [
      "{'clf__multi_class': 'multinomial', 'clf__solver': 'newton-cg', 'clf__C': 10} Pipeline(memory=None,\n",
      "     steps=[('StandardScaler', StandardScaler(copy=True, with_mean=True, with_std=True)), ('clf', LogisticRegression(C=10, class_weight=None, dual=False, fit_intercept=True,\n",
      "          intercept_scaling=1, max_iter=100, multi_class='multinomial',\n",
      "          n_jobs=None, penalty='l2', random_state=0, solver='newton-cg',\n",
      "          tol=0.0001, verbose=0, warm_start=False))])\n"
     ]
    }
   ],
   "source": [
    "tuning(X,y)"
   ]
  },
  {
   "cell_type": "markdown",
   "metadata": {},
   "source": [
    "# Fit X and y"
   ]
  },
  {
   "cell_type": "code",
   "execution_count": 38,
   "metadata": {},
   "outputs": [
    {
     "data": {
      "text/plain": [
       "LogisticRegression(C=10, class_weight=None, dual=False, fit_intercept=True,\n",
       "          intercept_scaling=1, max_iter=100, multi_class='multinomial',\n",
       "          n_jobs=None, penalty='l2', random_state=0, solver='newton-cg',\n",
       "          tol=0.0001, verbose=0, warm_start=False)"
      ]
     },
     "execution_count": 38,
     "metadata": {},
     "output_type": "execute_result"
    }
   ],
   "source": [
    "from sklearn.linear_model import LogisticRegression\n",
    "\n",
    "# Declare the classifier\n",
    "clf = LogisticRegression(multi_class='multinomial', solver='newton-cg', C=10, random_state=0)\n",
    "\n",
    "# Train the classifier\n",
    "clf.fit(X, y)"
   ]
  },
  {
   "cell_type": "markdown",
   "metadata": {},
   "source": [
    "# Plot distributions"
   ]
  },
  {
   "cell_type": "code",
   "execution_count": 39,
   "metadata": {},
   "outputs": [
    {
     "data": {
      "image/png": "[encoded data removed]",
      "text/plain": [
       "<Figure size 720x360 with 1 Axes>"
      ]
     },
     "metadata": {
      "needs_background": "light"
     },
     "output_type": "display_data"
    }
   ],
   "source": [
    "# Get the distribution\n",
    "distribution = get_distribution(clf, X, y, \"w41\", 1)\n",
    "\n",
    "# Plot the distribution\n",
    "plot_distribution(distribution, \"w41\", 1)\n",
    "plt.savefig('/media/user/2FD84FB396A78049/lwqa/pics/lg-minist-1-column14.png', dpi=300)\n",
    "plt.show()"
   ]
  },
  {
   "cell_type": "markdown",
   "metadata": {},
   "source": [
    "# CIFAR-10's distribution"
   ]
  },
  {
   "cell_type": "markdown",
   "metadata": {},
   "source": [
    "# Load data"
   ]
  },
  {
   "cell_type": "code",
   "execution_count": 5,
   "metadata": {},
   "outputs": [],
   "source": [
    "import numpy as np\n",
    "import random\n",
    "import pandas as pd\n",
    "import pickle\n",
    "import platform\n",
    "import os\n",
    " \n",
    "#加载序列文件\n",
    "def load_pickle(f):\n",
    "    version=platform.python_version_tuple()#判断python的版本\n",
    "    if version[0]== '2':\n",
    "        return pickle.load(f)\n",
    "    elif version[0]== '3':\n",
    "        return pickle.load(f,encoding='latin1')\n",
    "    raise ValueError(\"invalid python version:{}\".format(version))\n",
    "\n",
    "#处理原数据\n",
    "def load_CIFAR_batch(filename):\n",
    "    with open(filename,'rb') as f:\n",
    "        datadict=load_pickle(f)\n",
    "        X=datadict['data']\n",
    "        Y=datadict['labels']\n",
    "        #X=X.reshape(10000,3,32,32).transpose(0,2,3,1).astype(\"float\")\n",
    "        #reshape()是在不改变矩阵的数值的前提下修改矩阵的形状,transpose()对矩阵进行转置\n",
    "        Y=np.array(Y)\n",
    "        return X,Y\n",
    "        \n",
    "        \n",
    "#返回可以直接使用的数据集\n",
    "def load_CIFAR10(ROOT):\n",
    "    xs=[]\n",
    "    ys=[]\n",
    "    for b in range(1,6):\n",
    "        f=os.path.join(ROOT,'data_batch_%d'%(b,))#os.path.join()将多个路径组合后返回\n",
    "        X,Y=load_CIFAR_batch(f)\n",
    "        xs.append(X)\n",
    "        ys.append(Y)\n",
    "    Xtr=np.concatenate(xs)#这个函数用于将多个数组进行连接\n",
    "    Ytr=np.concatenate(ys)\n",
    "    del X,Y\n",
    "    Xte,Yte=load_CIFAR_batch(os.path.join(ROOT,'test_batch'))\n",
    "    return Xtr,Ytr,Xte,Yte\n",
    "\n",
    "datasets='cifar-10-batches-py'\n",
    "X_train,Y_train,X_test,Y_test=load_CIFAR10(datasets)\n",
    "\n",
    "#get R,G,B array\n",
    "XR = X_train[:,:1024]\n",
    "XG = X_train[:,1024:2048]\n",
    "XB = X_train[:,2048:3072]\n",
    "\n",
    "XR = np.c_[Y_train, XR]\n",
    "XG = np.c_[Y_train, XG]\n",
    "XB = np.c_[Y_train, XB]\n",
    "\n",
    "#get dataframe\n",
    "df = pd.DataFrame(XR)\n",
    "\n",
    "#name each pixel point\n",
    "list_=['class']\n",
    "for i in range(0,32):#row\n",
    "    for j in range(0,32):#column\n",
    "        list_.append(str(i)+'-'+str(j)+'R')\n",
    "    \n",
    "df.columns = list_\n",
    "#Specify the name of the features\n",
    "#del list_[0]\n",
    "features = list_[1:]\n",
    "# Get the features\n",
    "X = df[features].values\n",
    "# Get the target\n",
    "y = df['class'].values"
   ]
  },
  {
   "cell_type": "markdown",
   "metadata": {},
   "source": [
    "# Data preprocessing"
   ]
  },
  {
   "cell_type": "code",
   "execution_count": 6,
   "metadata": {},
   "outputs": [
    {
     "name": "stderr",
     "output_type": "stream",
     "text": [
      "/home/user/.local/lib/python3.5/site-packages/sklearn/utils/validation.py:595: DataConversionWarning: Data with input dtype int64 was converted to float64 by StandardScaler.\n",
      "  warnings.warn(msg, DataConversionWarning)\n",
      "/home/user/.local/lib/python3.5/site-packages/sklearn/utils/validation.py:595: DataConversionWarning: Data with input dtype int64 was converted to float64 by StandardScaler.\n",
      "  warnings.warn(msg, DataConversionWarning)\n"
     ]
    }
   ],
   "source": [
    "# Standardize the features\n",
    "X = scaler.fit_transform(X)"
   ]
  },
  {
   "cell_type": "markdown",
   "metadata": {},
   "source": [
    "# Hyperparameter tuning"
   ]
  },
  {
   "cell_type": "code",
   "execution_count": 7,
   "metadata": {},
   "outputs": [
    {
     "name": "stdout",
     "output_type": "stream",
     "text": [
      "{'clf__multi_class': 'ovr', 'clf__C': 0.001, 'clf__solver': 'newton-cg'} Pipeline(memory=None,\n",
      "     steps=[('StandardScaler', StandardScaler(copy=True, with_mean=True, with_std=True)), ('clf', LogisticRegression(C=0.001, class_weight=None, dual=False, fit_intercept=True,\n",
      "          intercept_scaling=1, max_iter=100, multi_class='ovr',\n",
      "          n_jobs=None, penalty='l2', random_state=0, solver='newton-cg',\n",
      "          tol=0.0001, verbose=0, warm_start=False))])\n"
     ]
    }
   ],
   "source": [
    "tuning(X,y)"
   ]
  },
  {
   "cell_type": "markdown",
   "metadata": {},
   "source": [
    "# Fit X and y"
   ]
  },
  {
   "cell_type": "code",
   "execution_count": 8,
   "metadata": {},
   "outputs": [
    {
     "data": {
      "text/plain": [
       "LogisticRegression(C=0.001, class_weight=None, dual=False, fit_intercept=True,\n",
       "          intercept_scaling=1, max_iter=100, multi_class='ovr',\n",
       "          n_jobs=None, penalty='l2', random_state=0, solver='newton-cg',\n",
       "          tol=0.0001, verbose=0, warm_start=False)"
      ]
     },
     "execution_count": 8,
     "metadata": {},
     "output_type": "execute_result"
    }
   ],
   "source": [
    "from sklearn.linear_model import LogisticRegression\n",
    "\n",
    "# Declare the classifier\n",
    "clf = LogisticRegression(multi_class='ovr', solver='newton-cg', C=0.001, random_state=0)\n",
    "\n",
    "# Train the classifier\n",
    "clf.fit(X, y)"
   ]
  },
  {
   "cell_type": "markdown",
   "metadata": {},
   "source": [
    "# Plot distributions"
   ]
  },
  {
   "cell_type": "code",
   "execution_count": 9,
   "metadata": {},
   "outputs": [
    {
     "data": {
      "image/png": "[encoded data removed]",
      "text/plain": [
       "<Figure size 720x360 with 1 Axes>"
      ]
     },
     "metadata": {
      "needs_background": "light"
     },
     "output_type": "display_data"
    }
   ],
   "source": [
    "distribution = get_distribution(clf, X, y, \"16-16R\", 1)\n",
    "\n",
    "# Plot the distribution\n",
    "plot_distribution(distribution, \"16-16R\", 1)\n",
    "#save the figure\n",
    "plt.savefig('/media/user/2FD84FB396A78049/lwqa/pics/lg-cifar-10-1-16-16R.png', dpi=300)\n",
    "plt.show()"
   ]
  },
  {
   "cell_type": "code",
   "execution_count": null,
   "metadata": {},
   "outputs": [],
   "source": []
  },
  {
   "cell_type": "code",
   "execution_count": null,
   "metadata": {},
   "outputs": [],
   "source": []
  },
  {
   "cell_type": "code",
   "execution_count": null,
   "metadata": {},
   "outputs": [],
   "source": []
  }
 ],
 "metadata": {
  "kernelspec": {
   "display_name": "Python 3.5",
   "language": "python",
   "name": "python3"
  },
  "language_info": {
   "codemirror_mode": {
    "name": "ipython",
    "version": 3
   },
   "file_extension": ".py",
   "mimetype": "text/x-python",
   "name": "python",
   "nbconvert_exporter": "python",
   "pygments_lexer": "ipython3",
   "version": "3.5.2"
  }
 },
 "nbformat": 4,
 "nbformat_minor": 2
}
