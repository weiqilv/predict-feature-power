{
 "cells": [
  {
   "cell_type": "markdown",
   "metadata": {},
   "source": [
    "# get woe value"
   ]
  },
  {
   "cell_type": "code",
   "execution_count": 1,
   "metadata": {},
   "outputs": [],
   "source": [
    "#Load Required Packages\n",
    "import pandas as pd\n",
    "import numpy as np\n",
    "import woe.feature_process as fp\n",
    "import woe.eval as eval\n",
    " \n",
    "#Implement sigmoid function    \n",
    "def sigmoid(x):\n",
    "    return 1/(1 + np.exp(-x))\n",
    "\n",
    " # using woe package\n",
    "def iv_woe(data, target, feature):\n",
    "    #save all woe value\n",
    "    data_woe = data \n",
    "    civ_list = []\n",
    "    n_positive = sum(data[target])\n",
    "    n_negtive = len(data[target]) - n_positive\n",
    "    cols = data.columns\n",
    "    for column in cols[~cols.isin(['target'])]:\n",
    "        if column == feature:\n",
    "            if (data[column].dtype.kind in 'bifc') and (len(np.unique(data[column]))>10):\n",
    "                civ = fp.proc_woe_continuous(data, column, n_positive, n_negtive, 0.05*len(data), alpha=0.01)\n",
    "                civ_list.append(civ)\n",
    "                data_woe[column] = fp.woe_trans(data[column], civ)\n",
    "                civ_df = eval.eval_feature_detail(civ_list,'output_feature_detail_0315.csv')\n",
    "            \n",
    "                print(civ_df[['var_name', 'split_list', 'woe_list']])\n",
    "                woeval = civ_df['woe_list']\n",
    "                \n",
    "            else:  \n",
    "                woeval = iv_woe2(df, 'target', 'Ethnicity')          \n",
    "               \n",
    "           \n",
    "    return woeval, len(woeval)\n",
    "\n",
    "#when value is discrete\n",
    "def iv_woe2(data, target, feature):\n",
    "    \n",
    "    #Empty Dataframe\n",
    "    newDF,woeDF = pd.DataFrame(), pd.DataFrame()\n",
    "    \n",
    "    #Extract Column Names\n",
    "    cols = data.columns\n",
    "    #print(type(feature))\n",
    "    #Run WOE and IV on all the independent variables\n",
    "    for ivars in cols[~cols.isin([target])]:\n",
    "        if ivars == feature:\n",
    "            #value is continuous\n",
    "            if (data[ivars].dtype.kind in 'bifc') and (len(np.unique(data[ivars]))>10):\n",
    "                #binned_x = pd.qcut(data[ivars], bins,  duplicates='drop')\n",
    "                binned_x = pd.cut(data[ivars], bins)\n",
    "                d0 = pd.DataFrame({'x': binned_x, 'y': data[target]})\n",
    "                print('value is continuous')\n",
    "            else:#value is discrete\n",
    "                d0 = pd.DataFrame({'x': data[ivars], 'y': data[target]})\n",
    "                print('value is discrete')\n",
    "            d = d0.groupby(\"x\", as_index=False).agg({\"y\": [\"count\", \"sum\"]})\n",
    "            d.columns = ['Cutoff', 'N', 'Events']\n",
    "            d['% of Events'] = np.maximum(d['Events'], 0.5) / d['Events'].sum()\n",
    "            d['Non-Events'] = d['N'] - d['Events']\n",
    "            d['% of Non-Events'] = np.maximum(d['Non-Events'], 0.5) / d['Non-Events'].sum()\n",
    "            d['WoE'] = np.log(d['% of Events']/d['% of Non-Events'])\n",
    "            d['IV'] = d['WoE'] * (d['% of Events'] - d['% of Non-Events'])\n",
    "            d.insert(loc=0, column='Variable', value=ivars)\n",
    "            #print(\"Information value of \" + ivars + \" is \" + str(round(d['IV'].sum(),6)))\n",
    "            temp =pd.DataFrame({\"Variable\" : [ivars], \"IV\" : [d['IV'].sum()]}, columns = [\"Variable\", \"IV\"])\n",
    "            newDF=pd.concat([newDF,temp], axis=0)\n",
    "            woeDF=pd.concat([woeDF,d], axis=0)\n",
    "\n",
    "    return d['WoE']"
   ]
  },
  {
   "cell_type": "markdown",
   "metadata": {},
   "source": [
    "# plot woe distribution"
   ]
  },
  {
   "cell_type": "code",
   "execution_count": 2,
   "metadata": {},
   "outputs": [],
   "source": [
    "import matplotlib.pyplot as plt  \n",
    "\n",
    "def plot_woe(numbin, woe_value, feature, class_, X):\n",
    "    \"\"\"\n",
    "    Plot the probability distribution of a class based on the feature\n",
    "    \"\"\"\n",
    "    s=numbin+1\n",
    "    # Get the segment\n",
    "    vals = range(1,s) \n",
    "\n",
    "     # Get the column number of the feature\n",
    "    j = features.index(feature)\n",
    "  \n",
    "    # Get the unique feature values and their indices\n",
    "    ufvals= np.unique(X[:, j])\n",
    "    ufvals = np.round(ufvals, 2)\n",
    "\n",
    "    # Get the probabilities\n",
    "    probas = woe_value \n",
    "    \n",
    "    # Get the pandas dataframe\n",
    "    df = pd.DataFrame(list(zip(vals, probas)), columns=[feature, 'Probability'])\n",
    "    \n",
    "    dic = dict({'w25698': 'software', 'w30360': 'year', 'w21347': 'people','w41': 'feature14', 'w42': 'column 15','MDVP:Fo(Hz)': 'MDVP:Fo(Hz)',\n",
    "             'Jitter:DDP':'Jitter:DDP','char_freq_!':'char_freq_!','word_freq_address': 'word_freq_address',\n",
    "              'H3K36me3_c12':'H3K36me3_c12','H3K36me3_c14c': 'H3K36me3_c14c', 'YY1': 'YY1',\n",
    "             'PPE':'PPE','EP300_body_Stanford':'EP300_body_Stanford','MXI1_body_ENCODE':'MXI1_body_ENCODE','MAFK_body_Stanford':'MAFK_body_Stanford','MYC_body_UTA':'MYC_body_UTA'\n",
    "             ,'10-15B':'10-15B','H3K79me2_body_Broad':'H3K79me2_body_Broad','H3K9ac':'H3K9ac','16-16R':'16-16R'}) \n",
    "    \n",
    "    # Plot the histogram\n",
    "    df.plot(x=feature,\n",
    "            y='Probability',\n",
    "            kind='bar',\n",
    "            yticks=[0, 0.25, 0.5, 0.75, 1],\n",
    "            ylim=(0, 1),\n",
    "            figsize=(10, 5),\n",
    "            title=class_,\n",
    "            legend=False,\n",
    "            fontsize=30,\n",
    "            color='g',\n",
    "            rot=0\n",
    "             )\n",
    "    \n",
    "    m = len(ufvals)\n",
    "    mid = m//2\n",
    "    a=[1,2,3]\n",
    "    a[0]=ufvals[0]\n",
    "    a[1]=ufvals[mid]\n",
    "    a[2]=ufvals[m-1]\n",
    "    n = len(vals)\n",
    "    print(n)\n",
    "    if feature!='Ethnicity':\n",
    "        if n == 2:\n",
    "            plt.xticks([0, n - 1], [a[0], a[2]], fontsize=30, rotation=0)\n",
    "        elif n==1:\n",
    "            plt.xticks([0],[a[1]], fontsize=30, rotation=0)\n",
    "        else:\n",
    "            mid = n // 2\n",
    "            # Only show the min, average, and max\n",
    "            plt.xticks([0, mid, n - 1], [a[0], a[1], a[2]], fontsize=30, rotation=0)\n",
    "    \n",
    "    if feature.isalpha():\n",
    "        plt.xlabel(feature, fontsize=30)\n",
    "    else:\n",
    "        plt.xlabel(dic[feature], fontsize=30)\n",
    "        \n",
    "    plt.ylabel('Probability', fontsize=30)\n",
    "    plt.title('WOE', fontsize=30)\n",
    "    plt.tight_layout()"
   ]
  },
  {
   "cell_type": "markdown",
   "metadata": {},
   "source": [
    "# parkinsons"
   ]
  },
  {
   "cell_type": "code",
   "execution_count": 3,
   "metadata": {},
   "outputs": [],
   "source": [
    "import pandas as pd\n",
    "import numpy as np\n",
    "\n",
    "# Load the data\n",
    "df = pd.read_csv('parkinsons.data', header=1)\n",
    "\n",
    "# Specify the name of the columns\n",
    "df.columns = ['name', 'MDVP:Fo(Hz)', 'MDVP:Fhi(Hz)', 'MDVP:Flo(Hz)', 'MDVP:Jitter(%)', 'MDVP:Jitter(Abs)', 'MDVP:RAP', 'MDVP:PPQ', 'Jitter:DDP', 'MDVP:Shimmer', 'MDVP:Shimmer(dB)', 'Shimmer:APQ3', 'Shimmer:APQ5', 'MDVP:APQ', 'Shimmer:DDA', 'NHR', 'HNR', 'target', 'RPDE', 'DFA', 'spread1', 'spread2', 'D2', 'PPE']\n",
    "# Specify the name of the features\n",
    "features = ['MDVP:Fo(Hz)', 'MDVP:Fhi(Hz)', 'MDVP:Flo(Hz)', 'MDVP:Jitter(%)', 'MDVP:Jitter(Abs)' ,'MDVP:RAP' ,'MDVP:PPQ', 'Jitter:DDP', 'MDVP:Shimmer', 'MDVP:Shimmer(dB)', 'Shimmer:APQ3', 'Shimmer:APQ5', 'MDVP:APQ', 'Shimmer:DDA', 'NHR', 'HNR', 'RPDE', 'DFA', 'spread1', 'spread2', 'D2', 'PPE']\n",
    "\n",
    "df.drop('name', axis=1, inplace=True)\n",
    "\n",
    "# Get the features\n",
    "X = df[features].values\n",
    "# Get the target\n",
    "y = df['target'].values\n",
    "\n",
    "from sklearn.preprocessing import StandardScaler\n",
    "\n",
    "# The StandardScaler\n",
    "scaler = StandardScaler()\n",
    "\n",
    "# Standardize the features\n",
    "X = scaler.fit_transform(X)\n",
    "\n",
    "dff = np.c_[y,X]\n",
    "\n",
    "dff = pd.DataFrame(dff)\n",
    "dff.columns = ['target','MDVP:Fo(Hz)', 'MDVP:Fhi(Hz)', 'MDVP:Flo(Hz)', 'MDVP:Jitter(%)', 'MDVP:Jitter(Abs)', 'MDVP:RAP', 'MDVP:PPQ', 'Jitter:DDP', 'MDVP:Shimmer', 'MDVP:Shimmer(dB)', 'Shimmer:APQ3', 'Shimmer:APQ5', 'MDVP:APQ', 'Shimmer:DDA', 'NHR', 'HNR', 'RPDE', 'DFA', 'spread1', 'spread2', 'D2', 'PPE']"
   ]
  },
  {
   "cell_type": "code",
   "execution_count": 4,
   "metadata": {},
   "outputs": [
    {
     "name": "stdout",
     "output_type": "stream",
     "text": [
      "--------------process continuous variable:PPE---------------\n",
      "PPE\n",
      "  var_name                                  split_list  woe_list\n",
      "0      PPE                  (-INF,-1.1366992770110425] -4.203353\n",
      "1      PPE   (-1.1366992770110425,-1.0030571571086448]  0.391633\n",
      "2      PPE   (-1.0030571571086448,-0.8036357388974439] -2.721804\n",
      "3      PPE   (-0.8036357388974439,-0.6527504069734439]  1.190089\n",
      "4      PPE   (-0.6527504069734439,-0.5040921324089773] -0.265127\n",
      "5      PPE   (-0.5040921324089773,-0.3925701588338044]  0.496992\n",
      "6      PPE  (-0.3925701588338044,-0.24224339793343236] -0.706949\n",
      "7      PPE  (-0.24224339793343236,0.10893167220466192]  0.784686\n",
      "8      PPE                  (0.10893167220466192,+INF)  3.281945\n",
      "9\n"
     ]
    },
    {
     "data": {
      "image/png": "[encoded data removed]",
      "text/plain": [
       "<Figure size 720x360 with 1 Axes>"
      ]
     },
     "metadata": {
      "needs_background": "light"
     },
     "output_type": "display_data"
    }
   ],
   "source": [
    "woev, numbin = iv_woe(dff, 'target', 'PPE')\n",
    "swoe = sigmoid(woev)\n",
    "#print(swoe)\n",
    "plot_woe(numbin, swoe, 'PPE', 1, X)\n",
    "plt.savefig('/media/user/2FD84FB396A78049/lwqa/pics/woe-parkinsons.png', dpi=300)\n",
    "plt.show()"
   ]
  },
  {
   "cell_type": "markdown",
   "metadata": {},
   "source": [
    "# drug consumption"
   ]
  },
  {
   "cell_type": "code",
   "execution_count": 5,
   "metadata": {},
   "outputs": [],
   "source": [
    "import pandas as pd\n",
    "import numpy as np\n",
    "\n",
    "# Load the data\n",
    "df = pd.read_csv('drug_consumption.csv', header=None)\n",
    "\n",
    "# Specify the name of the columns\n",
    "df.columns = ['ID', 'Age', 'Gender', 'Education', 'Country','Ethnicity', 'Nscore', 'Escore', 'Oscore', 'Ascore','Cscore', 'Impulsive', 'SS', 'Alcohol', 'Amphet','Amyl', 'Benzos', 'Caff', 'Cannabis', 'Choc', 'Coke', 'Crack','Ecstasy', 'target', 'Ketamine', 'Legalh', 'LSD', 'Meth', 'Mushrooms','Nicotine', 'Semer', 'VSA']\n",
    "features = ['ID', 'Age', 'Gender', 'Education', 'Country','Ethnicity', 'Nscore', 'Escore', 'Oscore', 'Ascore','Cscore', 'Impulsive', 'SS']\n",
    "\n",
    "# Get the features\n",
    "X = df[features].values\n",
    "\n",
    "# Get the target\n",
    "y = df['target'].values\n",
    "\n",
    "for i in range(0,1885):\n",
    "    if not y[i] == 'CL0' :\n",
    "        y[i] = 'CL7'\n",
    "    if y[i] == 'CL0':\n",
    "        y[i] = 0\n",
    "    else:\n",
    "        y[i] = 1\n",
    "        \n",
    "from sklearn.preprocessing import StandardScaler\n",
    "\n",
    "# The StandardScaler\n",
    "scaler = StandardScaler()\n",
    "\n",
    "# Standardize the features\n",
    "X = scaler.fit_transform(X)\n",
    "\n",
    "dff = np.c_[y,X]\n",
    "\n",
    "dff = pd.DataFrame(dff)\n",
    "dff.columns = ['target','ID', 'Age', 'Gender', 'Education', 'Country','Ethnicity', 'Nscore', 'Escore', 'Oscore', 'Ascore','Cscore', 'Impulsive', 'SS']"
   ]
  },
  {
   "cell_type": "code",
   "execution_count": 6,
   "metadata": {},
   "outputs": [
    {
     "name": "stdout",
     "output_type": "stream",
     "text": [
      "value is discrete\n",
      "7\n"
     ]
    },
    {
     "data": {
      "image/png": "[encoded data removed]",
      "text/plain": [
       "<Figure size 720x360 with 1 Axes>"
      ]
     },
     "metadata": {
      "needs_background": "light"
     },
     "output_type": "display_data"
    }
   ],
   "source": [
    "woev, numbin = iv_woe(dff, 'target', 'Ethnicity')\n",
    "swoe = sigmoid(woev)\n",
    "swoe=1-swoe\n",
    "#print(swoe)\n",
    "plot_woe(numbin, swoe,  'Ethnicity', 0, X)\n",
    "plt.savefig('/media/user/2FD84FB396A78049/lwqa/pics/woe-drug.png', dpi=300)\n",
    "plt.show()"
   ]
  },
  {
   "cell_type": "markdown",
   "metadata": {},
   "source": [
    "# drosophila_enhancers"
   ]
  },
  {
   "cell_type": "code",
   "execution_count": 7,
   "metadata": {},
   "outputs": [],
   "source": [
    "import pandas as pd\n",
    "\n",
    "# Load the data\n",
    "df = pd.read_csv('drosophila_enhancers.csv', header=1)\n",
    "\n",
    "# Specify the name of the columns\n",
    "df.columns = ['target','H3_c12','H3_c14a','H3_c14c','H3_c8','H3K18ac_c12','H3K18ac_c14a','H3K18ac_c14c',\n",
    "              'H3K18ac_c8','H3K27ac_c12','H3K27ac_c14a','H3K27ac_c14c','H3K27ac_c8','H3K27me3_c12','H3K27me3_c14a','H3K27me3_c14c','H3K36me3_c12',\n",
    "              'H3K36me3_c14a','H3K36me3_c14c','H3K4me1_c12','H3K4me1_c14a','H3K4me1_c14c','H3K4me1_c8','H3K4me3_c12','H3K4me3_c14a','H3K4me3_c14c',\n",
    "              'H3K4me3_c8','H3K9ac_c12','H3K9ac_c14a','H3K9ac_c14c','H3K9ac_c8','H4K5ac_c12','H4K5ac_c14a','H4K5ac_c14c','H4K5ac_c8','H4K8ac_c12',\n",
    "              'H4K8ac_c14a','H4K8ac_c14c','H4K8ac_c8','input_c12','input_c14a','input_c14c','input_c8','wt_H3','wt_H3K18ac','wt_H3K4me1','wt_ZLD','bcd1',\n",
    "              'bcd2','cad1','D1','da2','dl3','ftz3','gt2','h1','h2','hb1','hb2','hkb1','hkb2','hkb3','kni1','kni2','kr1','kr2','mad2','med2','prdBQ','prdFQ',\n",
    "              'run1','run2','shn2','shn3','slp1','sna1','sna2','tll1','twi1','twi2','z2']\n",
    "\n",
    "# Features\n",
    "features = ['H3_c12','H3_c14a','H3_c14c','H3_c8','H3K18ac_c12','H3K18ac_c14a','H3K18ac_c14c',\n",
    "              'H3K18ac_c8','H3K27ac_c12','H3K27ac_c14a','H3K27ac_c14c','H3K27ac_c8','H3K27me3_c12','H3K27me3_c14a','H3K27me3_c14c','H3K36me3_c12',\n",
    "              'H3K36me3_c14a','H3K36me3_c14c','H3K4me1_c12','H3K4me1_c14a','H3K4me1_c14c','H3K4me1_c8','H3K4me3_c12','H3K4me3_c14a','H3K4me3_c14c',\n",
    "              'H3K4me3_c8','H3K9ac_c12','H3K9ac_c14a','H3K9ac_c14c','H3K9ac_c8','H4K5ac_c12','H4K5ac_c14a','H4K5ac_c14c','H4K5ac_c8','H4K8ac_c12',\n",
    "              'H4K8ac_c14a','H4K8ac_c14c','H4K8ac_c8','input_c12','input_c14a','input_c14c','input_c8','wt_H3','wt_H3K18ac','wt_H3K4me1','wt_ZLD','bcd1',\n",
    "              'bcd2','cad1','D1','da2','dl3','ftz3','gt2','h1','h2','hb1','hb2','hkb1','hkb2','hkb3','kni1','kni2','kr1','kr2','mad2','med2','prdBQ','prdFQ',\n",
    "              'run1','run2','shn2','shn3','slp1','sna1','sna2','tll1','twi1','twi2','z2']\n",
    "# Get the features\n",
    "X = df[features].values\n",
    "y = df['target'].values\n",
    "from sklearn.preprocessing import StandardScaler\n",
    "\n",
    "# The StandardScaler\n",
    "scaler = StandardScaler()\n",
    "\n",
    "# Standardize the features\n",
    "X = scaler.fit_transform(X)\n",
    "\n",
    "dff = np.c_[y,X]\n",
    "\n",
    "dff = pd.DataFrame(dff)\n",
    "dff.columns = ['target','H3_c12','H3_c14a','H3_c14c','H3_c8','H3K18ac_c12','H3K18ac_c14a','H3K18ac_c14c',\n",
    "              'H3K18ac_c8','H3K27ac_c12','H3K27ac_c14a','H3K27ac_c14c','H3K27ac_c8','H3K27me3_c12','H3K27me3_c14a','H3K27me3_c14c','H3K36me3_c12',\n",
    "              'H3K36me3_c14a','H3K36me3_c14c','H3K4me1_c12','H3K4me1_c14a','H3K4me1_c14c','H3K4me1_c8','H3K4me3_c12','H3K4me3_c14a','H3K4me3_c14c',\n",
    "              'H3K4me3_c8','H3K9ac_c12','H3K9ac_c14a','H3K9ac_c14c','H3K9ac_c8','H4K5ac_c12','H4K5ac_c14a','H4K5ac_c14c','H4K5ac_c8','H4K8ac_c12',\n",
    "              'H4K8ac_c14a','H4K8ac_c14c','H4K8ac_c8','input_c12','input_c14a','input_c14c','input_c8','wt_H3','wt_H3K18ac','wt_H3K4me1','wt_ZLD','bcd1',\n",
    "              'bcd2','cad1','D1','da2','dl3','ftz3','gt2','h1','h2','hb1','hb2','hkb1','hkb2','hkb3','kni1','kni2','kr1','kr2','mad2','med2','prdBQ','prdFQ',\n",
    "              'run1','run2','shn2','shn3','slp1','sna1','sna2','tll1','twi1','twi2','z2']"
   ]
  },
  {
   "cell_type": "code",
   "execution_count": 8,
   "metadata": {},
   "outputs": [
    {
     "name": "stdout",
     "output_type": "stream",
     "text": [
      "---------process continuous variable:H3K36me3_c14c----------\n",
      "H3K36me3_c14c\n",
      "        var_name                                split_list  woe_list\n",
      "0  H3K36me3_c14c                (-INF,-0.6914529464193343] -0.133016\n",
      "1  H3K36me3_c14c  (-0.6914529464193343,0.7037787638966247]  0.014728\n",
      "2  H3K36me3_c14c                 (0.7037787638966247,+INF) -0.013387\n",
      "3\n"
     ]
    },
    {
     "data": {
      "image/png": "[encoded data removed]",
      "text/plain": [
       "<Figure size 720x360 with 1 Axes>"
      ]
     },
     "metadata": {
      "needs_background": "light"
     },
     "output_type": "display_data"
    }
   ],
   "source": [
    "woev, numbin = iv_woe(dff, 'target', 'H3K36me3_c14c')\n",
    "swoe = sigmoid(woev)\n",
    "#print(swoe)\n",
    "plot_woe(numbin, swoe, 'H3K36me3_c14c', 1, X)\n",
    "plt.savefig('/media/user/2FD84FB396A78049/lwqa/pics/woe-drosophila.png', dpi=300)\n",
    "plt.show()"
   ]
  },
  {
   "cell_type": "markdown",
   "metadata": {},
   "source": [
    "# alternative_splicing"
   ]
  },
  {
   "cell_type": "code",
   "execution_count": 9,
   "metadata": {},
   "outputs": [],
   "source": [
    "import pandas as pd\n",
    "import numpy as np\n",
    "\n",
    "\n",
    "# Load the data\n",
    "df = pd.read_csv('alternative_splicing.csv', header=1)\n",
    "\n",
    "# Specify the name of the columns\n",
    "df.columns = ['target','MYC_body_UTA','CTCF_body_UTA','POLR2A_body_UTA','ARID3A_body_Stanford','ATF1_body_HMS','ATF3_body_HMS','BACH1_body_Stanford',\n",
    "              'BDP1_body_HMS','BHLHE40_body_Stanford','BRF1_body_HMS','BRF2_body_HMS','SMARCA4_body_Stanford','CCNT2_body_HMS','CUX1_body_Stanford',\n",
    "              'FOS_body_Yale','CEBPB_body_Stanford','CHD2_body_Stanford','JUN_body_Stanford','JUN_body_Yale','JUN_body_Yale.1','JUN_body_Yale.2',\n",
    "              'JUN_body_Stanford.1','JUN_body_Yale.3','MYC_body_Yale','MYC_body_Yale.1','MYC_body_Stanford','MYC_body_Yale.2','MYC_body_Stanford.1',\n",
    "              'MYC_body_Yale.3','RCOR1_body_Stanford','RCOR1_body_Stanford.1','E2F4_body_USC','CTCF_body_Stanford','E2F6_body_USC','ELK1_body_Stanford',\n",
    "              'GATA1_body_USC','GATA1_body_Stanford','GATA2_body_USC','GTF2B_body_HMS','GTF2F1_body_Stanford','HCFC1_body_Stanford','HMGN3_body_HMS',\n",
    "              'SMARCB1_body_Stanford','IRF1_body_Stanford','IRF1_body_Stanford.1','IRF1_body_Stanford.2','IRF1_body_Stanford.3','TRIM28_body_USC','JUND_body_Stanford',\n",
    "              'MAFF_body_Stanford','MAFK_body_Stanford','MAX_body_Stanford','MAX_body_Yale','MXI1_body_Stanford','NFE2_body_Yale','NFYA_body_Stanford','NFYB_body_Stanford',\n",
    "              'NRF1_body_Stanford','EP300_body_Stanford','EP300_body_Stanford.1','POLR2A_body_Yale','POLR2A_body_Yale.1','POLR2A_body_Stanford',\n",
    "              'POLR2A_body_Yale.2','POLR2A_body_Stanford.1','POLR2A_body_Yale.3','POLR2AphosphoS2_body_Stanford','POLR2AphosphoS2_body_Stanford.1','POLR3G_body_Stanford',\n",
    "              'RAD21_body_Yale','RFX5_body_Stanford','POLR3A_body_HMS','SETDB1_body_USC','SETDB1_body_USC.1','SIRT6_body_HMS','STAT1_body_Yale','SMC3_body_Stanford',\n",
    "              'STAT1_body_Yale.1','STAT1_body_Stanford','STAT1_body_Stanford.1','STAT2_body_Yale','STAT2_body_Yale.1','TAL1_body_Stanford','TBL1XR1_body_Stanford','TBL1XR1_body_Stanford.1',\n",
    "              'TBP_body_Stanford','GTF3C2_body_HMS','NR2C2_body_USC','UBTF_body_Stanford','UBTF_body_Stanford.1','USF2_body_Stanford','XRCC4_body_Yale','YY1',\n",
    "              'ZNF143_body_Stanford','ZNF263_body_USC','ZNF274_body_USC','ZNF274_body_USC.1','ZNF384_body_Stanford','ZMIZ1_body_Stanford','eGFP.FOS_body_UChicago',\n",
    "              'eGFP.GATA2_body_UChicago','eGFP.HDAC8_body_UChicago','eGFP.JUNB_body_UChicago','eGFP.JUND_body_UChicago','eGFP.NR4A1_body_UChicago','CTCF_body_UW',\n",
    "              'CTCF_body_UW.1','CHD1_body_ENCODE','CTCF_body_ENCODE','EZH2_body_ENCODE','HDAC1_body_ENCODE','HDAC2_body_ENCODE','HDAC6_body_ENCODE','EP300_body_ENCODE',\n",
    "              'PHF8_body_ENCODE','KDM5B_body_ENCODE','POLR2A_body_ENCODE','RBBP5_body_ENCODE','SAP30_body_ENCODE','ATF3_body_ENCODE','BCL3_body_ENCODE','CBX3_body_ENCODE',\n",
    "              'CEBPB_body_ENCODE','CTCF_body_ENCODE.1','CTCFL_body_ENCODE','E2F6_body_ENCODE','EGR1_body_ENCODE','ELF1_body_ENCODE','ETS1_body_ENCODE','FOSL1_body_ENCODE',\n",
    "              'GABPA_body_ENCODE','GATA2_body_ENCODE','HDAC2_body_ENCODE.1','MAX_body_ENCODE','MEF2A_body_ENCODE','NR2F2_body_ENCODE','REST_body_ENCODE','PML_body_ENCODE',\n",
    "              'POLR2AphosphoS5_body_ENCODE','POLR2A_body_ENCODE.1','SPI1_body_ENCODE','RAD21_body_ENCODE','SIN3A_body_ENCODE','SIX5_body_ENCODE',\n",
    "              'SP1_body_ENCODE','SP2_body_ENCODE','SRF_body_ENCODE','STAT5A_body_ENCODE','TAF1_body_ENCODE','TAF7_body_ENCODE','TEAD4_body_ENCODE','THAP1_body_ENCODE',\n",
    "              'USF1_body_ENCODE','YY1_body_ENCODE','YY1_body_ENCODE.1','ZBTB33_body_ENCODE','ZBTB7A_body_ENCODE','ARID3A_body_ENCODE','ATF1_body_ENCODE','ATF3_body_ENCODE.1',\n",
    "              'BACH1_body_ENCODE','BDP1_body_ENCODE','BHLHE40_body_ENCODE','BRF1_body_ENCODE','BRF2_body_ENCODE','SMARCA4_body_ENCODE','CCNT2_body_ENCODE',\n",
    "              'CEBPB_body_ENCODE.1','FOS_body_ENCODE','CHD2_body_ENCODE','JUN_body_ENCODE','JUN_body_ENCODE.1','JUN_body_ENCODE.2','JUN_body_ENCODE.3',\n",
    "              'JUN_body_ENCODE.4','MYC_body_ENCODE','MYC_body_ENCODE.1','MYC_body_ENCODE.2','MYC_body_ENCODE.3','MYC_body_ENCODE.4','MYC_body_ENCODE.5',\n",
    "              'RCOR1_body_ENCODE','RCOR1_body_ENCODE.1','CTCF_body_ENCODE.2','E2F4_body_ENCODE','E2F6_body_ENCODE.1','ELK1_body_ENCODE','GATA1_body_ENCODE',\n",
    "              'GATA2_body_ENCODE.1','GTF2B_body_ENCODE','GTF2F1_body_ENCODE','HMGN3_body_ENCODE','SMARCB1_body_ENCODE','IRF1_body_ENCODE','IRF1_body_ENCODE.1',\n",
    "              'IRF1_body_ENCODE.2','IRF1_body_ENCODE.3','JUND_body_ENCODE','TRIM28_body_ENCODE','MAFF_body_ENCODE','MAFK_body_ENCODE','MAX_body_ENCODE.1',\n",
    "              'MXI1_body_ENCODE','NFE2_body_ENCODE','NFYA_body_ENCODE','NFYB_body_ENCODE','NRF1_body_ENCODE','EP300_body_ENCODE.1','POLR2A_body_ENCODE.2','POLR2A_body_ENCODE.3',\n",
    "              'POLR2A_body_ENCODE.4','POLR2A_body_ENCODE.5','POLR2A_body_ENCODE.6','POLR2A_body_ENCODE.7','POLR2AphosphoS2_body_ENCODE','POLR3G_body_ENCODE','RAD21_body_ENCODE.1',\n",
    "              'RFX5_body_ENCODE','POLR3A_body_ENCODE','SETDB1_body_ENCODE','SETDB1_body_ENCODE.1','SIRT6_body_ENCODE','SMC3_body_ENCODE','STAT1_body_ENCODE','STAT1_body_ENCODE.1',\n",
    "              'STAT1_body_ENCODE.2','STAT1_body_ENCODE.3','STAT2_body_ENCODE','STAT2_body_ENCODE.1','TAL1_body_ENCODE','TBL1XR1_body_ENCODE','TBL1XR1_body_ENCODE.1','TBP_body_ENCODE',\n",
    "              'GTF3C2_body_ENCODE','NR2C2_body_ENCODE','UBTF_body_ENCODE','UBTF_body_ENCODE.1','USF2_body_ENCODE','YY1_body_ENCODE.2','ZNF143_body_ENCODE','ZNF263_body_ENCODE','ZNF274_body_ENCODE',\n",
    "              'ZNF274_body_ENCODE.1','MYC_body_ENCODE.6','CTCF_body_ENCODE.3','POLR2A_body_ENCODE.8','CTCF_body_ENCODE.4','POLR2AphosphoS2_body_ENCODE.1','eGFP.FOS_body_ENCODE',\n",
    "              'eGFP.GATA2_body_ENCODE','eGFP.HDAC8_body_ENCODE','eGFP.JUNB_body_ENCODE','eGFP.JUND_body_ENCODE','H3K27ac_body_Broad','H3K27me3_body_Broad','H3K36me3_body_Broad','H3K4me1_body_Broad',\n",
    "              'H3K4me2_body_Broad','H3K4me3_body_Broad','H3K79me2_body_Broad','H3K9ac','H3K9me1_body_Broad','H3K9me3_body_Broad','H4K','H3K27me3_body_UW',\n",
    "              'H3K27me3_body_UW.1','H3K36me3_body_UW','H3K36me3_body_UW.1','H3K4me3_body_UW','H3K4me3_body_UW.1']\n",
    "\n",
    "# Features\n",
    "features = ['MYC_body_UTA','CTCF_body_UTA','POLR2A_body_UTA','ARID3A_body_Stanford','ATF1_body_HMS','ATF3_body_HMS','BACH1_body_Stanford',\n",
    "              'BDP1_body_HMS','BHLHE40_body_Stanford','BRF1_body_HMS','BRF2_body_HMS','SMARCA4_body_Stanford','CCNT2_body_HMS','CUX1_body_Stanford',\n",
    "              'FOS_body_Yale','CEBPB_body_Stanford','CHD2_body_Stanford','JUN_body_Stanford','JUN_body_Yale','JUN_body_Yale.1','JUN_body_Yale.2',\n",
    "              'JUN_body_Stanford.1','JUN_body_Yale.3','MYC_body_Yale','MYC_body_Yale.1','MYC_body_Stanford','MYC_body_Yale.2','MYC_body_Stanford.1',\n",
    "              'MYC_body_Yale.3','RCOR1_body_Stanford','RCOR1_body_Stanford.1','E2F4_body_USC','CTCF_body_Stanford','E2F6_body_USC','ELK1_body_Stanford',\n",
    "              'GATA1_body_USC','GATA1_body_Stanford','GATA2_body_USC','GTF2B_body_HMS','GTF2F1_body_Stanford','HCFC1_body_Stanford','HMGN3_body_HMS',\n",
    "              'SMARCB1_body_Stanford','IRF1_body_Stanford','IRF1_body_Stanford.1','IRF1_body_Stanford.2','IRF1_body_Stanford.3','TRIM28_body_USC','JUND_body_Stanford',\n",
    "              'MAFF_body_Stanford','MAFK_body_Stanford','MAX_body_Stanford','MAX_body_Yale','MXI1_body_Stanford','NFE2_body_Yale','NFYA_body_Stanford','NFYB_body_Stanford',\n",
    "              'NRF1_body_Stanford','EP300_body_Stanford','EP300_body_Stanford.1','POLR2A_body_Yale','POLR2A_body_Yale.1','POLR2A_body_Stanford',\n",
    "              'POLR2A_body_Yale.2','POLR2A_body_Stanford.1','POLR2A_body_Yale.3','POLR2AphosphoS2_body_Stanford','POLR2AphosphoS2_body_Stanford.1','POLR3G_body_Stanford',\n",
    "              'RAD21_body_Yale','RFX5_body_Stanford','POLR3A_body_HMS','SETDB1_body_USC','SETDB1_body_USC.1','SIRT6_body_HMS','STAT1_body_Yale','SMC3_body_Stanford',\n",
    "              'STAT1_body_Yale.1','STAT1_body_Stanford','STAT1_body_Stanford.1','STAT2_body_Yale','STAT2_body_Yale.1','TAL1_body_Stanford','TBL1XR1_body_Stanford','TBL1XR1_body_Stanford.1',\n",
    "              'TBP_body_Stanford','GTF3C2_body_HMS','NR2C2_body_USC','UBTF_body_Stanford','UBTF_body_Stanford.1','USF2_body_Stanford','XRCC4_body_Yale','YY1',\n",
    "              'ZNF143_body_Stanford','ZNF263_body_USC','ZNF274_body_USC','ZNF274_body_USC.1','ZNF384_body_Stanford','ZMIZ1_body_Stanford','eGFP.FOS_body_UChicago',\n",
    "              'eGFP.GATA2_body_UChicago','eGFP.HDAC8_body_UChicago','eGFP.JUNB_body_UChicago','eGFP.JUND_body_UChicago','eGFP.NR4A1_body_UChicago','CTCF_body_UW',\n",
    "              'CTCF_body_UW.1','CHD1_body_ENCODE','CTCF_body_ENCODE','EZH2_body_ENCODE','HDAC1_body_ENCODE','HDAC2_body_ENCODE','HDAC6_body_ENCODE','EP300_body_ENCODE',\n",
    "              'PHF8_body_ENCODE','KDM5B_body_ENCODE','POLR2A_body_ENCODE','RBBP5_body_ENCODE','SAP30_body_ENCODE','ATF3_body_ENCODE','BCL3_body_ENCODE','CBX3_body_ENCODE',\n",
    "              'CEBPB_body_ENCODE','CTCF_body_ENCODE.1','CTCFL_body_ENCODE','E2F6_body_ENCODE','EGR1_body_ENCODE','ELF1_body_ENCODE','ETS1_body_ENCODE','FOSL1_body_ENCODE',\n",
    "              'GABPA_body_ENCODE','GATA2_body_ENCODE','HDAC2_body_ENCODE.1','MAX_body_ENCODE','MEF2A_body_ENCODE','NR2F2_body_ENCODE','REST_body_ENCODE','PML_body_ENCODE',\n",
    "              'POLR2AphosphoS5_body_ENCODE','POLR2A_body_ENCODE.1','SPI1_body_ENCODE','RAD21_body_ENCODE','SIN3A_body_ENCODE','SIX5_body_ENCODE',\n",
    "              'SP1_body_ENCODE','SP2_body_ENCODE','SRF_body_ENCODE','STAT5A_body_ENCODE','TAF1_body_ENCODE','TAF7_body_ENCODE','TEAD4_body_ENCODE','THAP1_body_ENCODE',\n",
    "              'USF1_body_ENCODE','YY1_body_ENCODE','YY1_body_ENCODE.1','ZBTB33_body_ENCODE','ZBTB7A_body_ENCODE','ARID3A_body_ENCODE','ATF1_body_ENCODE','ATF3_body_ENCODE.1',\n",
    "              'BACH1_body_ENCODE','BDP1_body_ENCODE','BHLHE40_body_ENCODE','BRF1_body_ENCODE','BRF2_body_ENCODE','SMARCA4_body_ENCODE','CCNT2_body_ENCODE',\n",
    "              'CEBPB_body_ENCODE.1','FOS_body_ENCODE','CHD2_body_ENCODE','JUN_body_ENCODE','JUN_body_ENCODE.1','JUN_body_ENCODE.2','JUN_body_ENCODE.3',\n",
    "              'JUN_body_ENCODE.4','MYC_body_ENCODE','MYC_body_ENCODE.1','MYC_body_ENCODE.2','MYC_body_ENCODE.3','MYC_body_ENCODE.4','MYC_body_ENCODE.5',\n",
    "              'RCOR1_body_ENCODE','RCOR1_body_ENCODE.1','CTCF_body_ENCODE.2','E2F4_body_ENCODE','E2F6_body_ENCODE.1','ELK1_body_ENCODE','GATA1_body_ENCODE',\n",
    "              'GATA2_body_ENCODE.1','GTF2B_body_ENCODE','GTF2F1_body_ENCODE','HMGN3_body_ENCODE','SMARCB1_body_ENCODE','IRF1_body_ENCODE','IRF1_body_ENCODE.1',\n",
    "              'IRF1_body_ENCODE.2','IRF1_body_ENCODE.3','JUND_body_ENCODE','TRIM28_body_ENCODE','MAFF_body_ENCODE','MAFK_body_ENCODE','MAX_body_ENCODE.1',\n",
    "              'MXI1_body_ENCODE','NFE2_body_ENCODE','NFYA_body_ENCODE','NFYB_body_ENCODE','NRF1_body_ENCODE','EP300_body_ENCODE.1','POLR2A_body_ENCODE.2','POLR2A_body_ENCODE.3',\n",
    "              'POLR2A_body_ENCODE.4','POLR2A_body_ENCODE.5','POLR2A_body_ENCODE.6','POLR2A_body_ENCODE.7','POLR2AphosphoS2_body_ENCODE','POLR3G_body_ENCODE','RAD21_body_ENCODE.1',\n",
    "              'RFX5_body_ENCODE','POLR3A_body_ENCODE','SETDB1_body_ENCODE','SETDB1_body_ENCODE.1','SIRT6_body_ENCODE','SMC3_body_ENCODE','STAT1_body_ENCODE','STAT1_body_ENCODE.1',\n",
    "              'STAT1_body_ENCODE.2','STAT1_body_ENCODE.3','STAT2_body_ENCODE','STAT2_body_ENCODE.1','TAL1_body_ENCODE','TBL1XR1_body_ENCODE','TBL1XR1_body_ENCODE.1','TBP_body_ENCODE',\n",
    "              'GTF3C2_body_ENCODE','NR2C2_body_ENCODE','UBTF_body_ENCODE','UBTF_body_ENCODE.1','USF2_body_ENCODE','YY1_body_ENCODE.2','ZNF143_body_ENCODE','ZNF263_body_ENCODE','ZNF274_body_ENCODE',\n",
    "              'ZNF274_body_ENCODE.1','MYC_body_ENCODE.6','CTCF_body_ENCODE.3','POLR2A_body_ENCODE.8','CTCF_body_ENCODE.4','POLR2AphosphoS2_body_ENCODE.1','eGFP.FOS_body_ENCODE',\n",
    "              'eGFP.GATA2_body_ENCODE','eGFP.HDAC8_body_ENCODE','eGFP.JUNB_body_ENCODE','eGFP.JUND_body_ENCODE','H3K27ac_body_Broad','H3K27me3_body_Broad','H3K36me3_body_Broad','H3K4me1_body_Broad',\n",
    "              'H3K4me2_body_Broad','H3K4me3_body_Broad','H3K79me2_body_Broad','H3K9ac','H3K9me1_body_Broad','H3K9me3_body_Broad','H4K','H3K27me3_body_UW',\n",
    "              'H3K27me3_body_UW.1','H3K36me3_body_UW','H3K36me3_body_UW.1','H3K4me3_body_UW','H3K4me3_body_UW.1']\n",
    "# Get the features\n",
    "X = df[features].values\n",
    "\n",
    "# Get the target\n",
    "y = df['target'].values\n",
    "\n",
    "from sklearn.preprocessing import StandardScaler\n",
    "\n",
    "# The StandardScaler\n",
    "scaler = StandardScaler()\n",
    "\n",
    "# Standardize the features\n",
    "X = scaler.fit_transform(X)\n",
    "\n",
    "dff = np.c_[y,X]\n",
    "\n",
    "dff = pd.DataFrame(dff)\n",
    "dff.columns = ['target','MYC_body_UTA','CTCF_body_UTA','POLR2A_body_UTA','ARID3A_body_Stanford','ATF1_body_HMS','ATF3_body_HMS','BACH1_body_Stanford',\n",
    "              'BDP1_body_HMS','BHLHE40_body_Stanford','BRF1_body_HMS','BRF2_body_HMS','SMARCA4_body_Stanford','CCNT2_body_HMS','CUX1_body_Stanford',\n",
    "              'FOS_body_Yale','CEBPB_body_Stanford','CHD2_body_Stanford','JUN_body_Stanford','JUN_body_Yale','JUN_body_Yale.1','JUN_body_Yale.2',\n",
    "              'JUN_body_Stanford.1','JUN_body_Yale.3','MYC_body_Yale','MYC_body_Yale.1','MYC_body_Stanford','MYC_body_Yale.2','MYC_body_Stanford.1',\n",
    "              'MYC_body_Yale.3','RCOR1_body_Stanford','RCOR1_body_Stanford.1','E2F4_body_USC','CTCF_body_Stanford','E2F6_body_USC','ELK1_body_Stanford',\n",
    "              'GATA1_body_USC','GATA1_body_Stanford','GATA2_body_USC','GTF2B_body_HMS','GTF2F1_body_Stanford','HCFC1_body_Stanford','HMGN3_body_HMS',\n",
    "              'SMARCB1_body_Stanford','IRF1_body_Stanford','IRF1_body_Stanford.1','IRF1_body_Stanford.2','IRF1_body_Stanford.3','TRIM28_body_USC','JUND_body_Stanford',\n",
    "              'MAFF_body_Stanford','MAFK_body_Stanford','MAX_body_Stanford','MAX_body_Yale','MXI1_body_Stanford','NFE2_body_Yale','NFYA_body_Stanford','NFYB_body_Stanford',\n",
    "              'NRF1_body_Stanford','EP300_body_Stanford','EP300_body_Stanford.1','POLR2A_body_Yale','POLR2A_body_Yale.1','POLR2A_body_Stanford',\n",
    "              'POLR2A_body_Yale.2','POLR2A_body_Stanford.1','POLR2A_body_Yale.3','POLR2AphosphoS2_body_Stanford','POLR2AphosphoS2_body_Stanford.1','POLR3G_body_Stanford',\n",
    "              'RAD21_body_Yale','RFX5_body_Stanford','POLR3A_body_HMS','SETDB1_body_USC','SETDB1_body_USC.1','SIRT6_body_HMS','STAT1_body_Yale','SMC3_body_Stanford',\n",
    "              'STAT1_body_Yale.1','STAT1_body_Stanford','STAT1_body_Stanford.1','STAT2_body_Yale','STAT2_body_Yale.1','TAL1_body_Stanford','TBL1XR1_body_Stanford','TBL1XR1_body_Stanford.1',\n",
    "              'TBP_body_Stanford','GTF3C2_body_HMS','NR2C2_body_USC','UBTF_body_Stanford','UBTF_body_Stanford.1','USF2_body_Stanford','XRCC4_body_Yale','YY1',\n",
    "              'ZNF143_body_Stanford','ZNF263_body_USC','ZNF274_body_USC','ZNF274_body_USC.1','ZNF384_body_Stanford','ZMIZ1_body_Stanford','eGFP.FOS_body_UChicago',\n",
    "              'eGFP.GATA2_body_UChicago','eGFP.HDAC8_body_UChicago','eGFP.JUNB_body_UChicago','eGFP.JUND_body_UChicago','eGFP.NR4A1_body_UChicago','CTCF_body_UW',\n",
    "              'CTCF_body_UW.1','CHD1_body_ENCODE','CTCF_body_ENCODE','EZH2_body_ENCODE','HDAC1_body_ENCODE','HDAC2_body_ENCODE','HDAC6_body_ENCODE','EP300_body_ENCODE',\n",
    "              'PHF8_body_ENCODE','KDM5B_body_ENCODE','POLR2A_body_ENCODE','RBBP5_body_ENCODE','SAP30_body_ENCODE','ATF3_body_ENCODE','BCL3_body_ENCODE','CBX3_body_ENCODE',\n",
    "              'CEBPB_body_ENCODE','CTCF_body_ENCODE.1','CTCFL_body_ENCODE','E2F6_body_ENCODE','EGR1_body_ENCODE','ELF1_body_ENCODE','ETS1_body_ENCODE','FOSL1_body_ENCODE',\n",
    "              'GABPA_body_ENCODE','GATA2_body_ENCODE','HDAC2_body_ENCODE.1','MAX_body_ENCODE','MEF2A_body_ENCODE','NR2F2_body_ENCODE','REST_body_ENCODE','PML_body_ENCODE',\n",
    "              'POLR2AphosphoS5_body_ENCODE','POLR2A_body_ENCODE.1','SPI1_body_ENCODE','RAD21_body_ENCODE','SIN3A_body_ENCODE','SIX5_body_ENCODE',\n",
    "              'SP1_body_ENCODE','SP2_body_ENCODE','SRF_body_ENCODE','STAT5A_body_ENCODE','TAF1_body_ENCODE','TAF7_body_ENCODE','TEAD4_body_ENCODE','THAP1_body_ENCODE',\n",
    "              'USF1_body_ENCODE','YY1_body_ENCODE','YY1_body_ENCODE.1','ZBTB33_body_ENCODE','ZBTB7A_body_ENCODE','ARID3A_body_ENCODE','ATF1_body_ENCODE','ATF3_body_ENCODE.1',\n",
    "              'BACH1_body_ENCODE','BDP1_body_ENCODE','BHLHE40_body_ENCODE','BRF1_body_ENCODE','BRF2_body_ENCODE','SMARCA4_body_ENCODE','CCNT2_body_ENCODE',\n",
    "              'CEBPB_body_ENCODE.1','FOS_body_ENCODE','CHD2_body_ENCODE','JUN_body_ENCODE','JUN_body_ENCODE.1','JUN_body_ENCODE.2','JUN_body_ENCODE.3',\n",
    "              'JUN_body_ENCODE.4','MYC_body_ENCODE','MYC_body_ENCODE.1','MYC_body_ENCODE.2','MYC_body_ENCODE.3','MYC_body_ENCODE.4','MYC_body_ENCODE.5',\n",
    "              'RCOR1_body_ENCODE','RCOR1_body_ENCODE.1','CTCF_body_ENCODE.2','E2F4_body_ENCODE','E2F6_body_ENCODE.1','ELK1_body_ENCODE','GATA1_body_ENCODE',\n",
    "              'GATA2_body_ENCODE.1','GTF2B_body_ENCODE','GTF2F1_body_ENCODE','HMGN3_body_ENCODE','SMARCB1_body_ENCODE','IRF1_body_ENCODE','IRF1_body_ENCODE.1',\n",
    "              'IRF1_body_ENCODE.2','IRF1_body_ENCODE.3','JUND_body_ENCODE','TRIM28_body_ENCODE','MAFF_body_ENCODE','MAFK_body_ENCODE','MAX_body_ENCODE.1',\n",
    "              'MXI1_body_ENCODE','NFE2_body_ENCODE','NFYA_body_ENCODE','NFYB_body_ENCODE','NRF1_body_ENCODE','EP300_body_ENCODE.1','POLR2A_body_ENCODE.2','POLR2A_body_ENCODE.3',\n",
    "              'POLR2A_body_ENCODE.4','POLR2A_body_ENCODE.5','POLR2A_body_ENCODE.6','POLR2A_body_ENCODE.7','POLR2AphosphoS2_body_ENCODE','POLR3G_body_ENCODE','RAD21_body_ENCODE.1',\n",
    "              'RFX5_body_ENCODE','POLR3A_body_ENCODE','SETDB1_body_ENCODE','SETDB1_body_ENCODE.1','SIRT6_body_ENCODE','SMC3_body_ENCODE','STAT1_body_ENCODE','STAT1_body_ENCODE.1',\n",
    "              'STAT1_body_ENCODE.2','STAT1_body_ENCODE.3','STAT2_body_ENCODE','STAT2_body_ENCODE.1','TAL1_body_ENCODE','TBL1XR1_body_ENCODE','TBL1XR1_body_ENCODE.1','TBP_body_ENCODE',\n",
    "              'GTF3C2_body_ENCODE','NR2C2_body_ENCODE','UBTF_body_ENCODE','UBTF_body_ENCODE.1','USF2_body_ENCODE','YY1_body_ENCODE.2','ZNF143_body_ENCODE','ZNF263_body_ENCODE','ZNF274_body_ENCODE',\n",
    "              'ZNF274_body_ENCODE.1','MYC_body_ENCODE.6','CTCF_body_ENCODE.3','POLR2A_body_ENCODE.8','CTCF_body_ENCODE.4','POLR2AphosphoS2_body_ENCODE.1','eGFP.FOS_body_ENCODE',\n",
    "              'eGFP.GATA2_body_ENCODE','eGFP.HDAC8_body_ENCODE','eGFP.JUNB_body_ENCODE','eGFP.JUND_body_ENCODE','H3K27ac_body_Broad','H3K27me3_body_Broad','H3K36me3_body_Broad','H3K4me1_body_Broad',\n",
    "              'H3K4me2_body_Broad','H3K4me3_body_Broad','H3K79me2_body_Broad','H3K9ac','H3K9me1_body_Broad','H3K9me3_body_Broad','H4K','H3K27me3_body_UW',\n",
    "              'H3K27me3_body_UW.1','H3K36me3_body_UW','H3K36me3_body_UW.1','H3K4me3_body_UW','H3K4me3_body_UW.1']"
   ]
  },
  {
   "cell_type": "code",
   "execution_count": 10,
   "metadata": {},
   "outputs": [
    {
     "name": "stdout",
     "output_type": "stream",
     "text": [
      "--------------process continuous variable:YY1---------------\n",
      "YY1\n",
      "  var_name   split_list      woe_list\n",
      "0      YY1  (-INF,+INF) -3.117937e-08\n",
      "1\n"
     ]
    },
    {
     "data": {
      "image/png": "[encoded data removed]",
      "text/plain": [
       "<Figure size 720x360 with 1 Axes>"
      ]
     },
     "metadata": {
      "needs_background": "light"
     },
     "output_type": "display_data"
    }
   ],
   "source": [
    "woev, numbin = iv_woe(dff, 'target', 'YY1')\n",
    "swoe = sigmoid(woev)\n",
    "#print(swoe)\n",
    "plot_woe(numbin, swoe, 'YY1', 1, X)\n",
    "plt.savefig('/media/user/2FD84FB396A78049/lwqa/pics/woe-alternative.png', dpi=300)\n",
    "plt.show()"
   ]
  },
  {
   "cell_type": "markdown",
   "metadata": {},
   "source": [
    "# 20news groups"
   ]
  },
  {
   "cell_type": "code",
   "execution_count": 11,
   "metadata": {},
   "outputs": [],
   "source": [
    "from sklearn.datasets import fetch_20newsgroups\n",
    "from sklearn.feature_extraction.text import TfidfVectorizer\n",
    "import numpy as np\n",
    "\n",
    "# Select four classes\n",
    "categories = ['talk.politics.guns', 'rec.sport.baseball','comp.graphics']\n",
    "# Load data set\n",
    "newsgroups_train = fetch_20newsgroups(subset='train',categories=categories)\n",
    "# Select tfidf feature\n",
    "vectorizer = TfidfVectorizer() \n",
    "vectors = vectorizer.fit_transform(newsgroups_train.data)\n",
    "\n",
    "#Get array\n",
    "a = vectors.toarray()\n",
    "b = newsgroups_train.target\n",
    "c = newsgroups_train.target_names\n",
    "b=[str(x) for x in b]\n",
    "#Transform target \n",
    "for i in range(0,1727):\n",
    "    if b[i] == '0':\n",
    "        b[i] = 'comp.graphics'\n",
    "    if b[i] == '1':\n",
    "        b[i] = 'rec.sport.baseball'\n",
    "    if b[i] == '2':\n",
    "        b[i] = 'talk.politics.guns'\n",
    "        \n",
    "for i in range(0,1727):\n",
    "    if b[i] == 'comp.graphics':\n",
    "        b[i] = 1\n",
    "    else:\n",
    "        b[i] = 0\n",
    "\n",
    "#Get array\n",
    "b = np.array(b)\n",
    "a = np.c_[b,a]\n",
    "\n",
    "import pandas as pd\n",
    "df = pd.DataFrame(a)\n",
    "\n",
    "list_=['target']\n",
    "for i in range(0,30664):\n",
    "    str(i)\n",
    "    list_.append('w'+str(i))\n",
    "    \n",
    "df.columns = list_\n",
    "#Specify the name of the features\n",
    "#del list_[0]\n",
    "features = list_[1:]\n",
    "# Get the features\n",
    "X = df[features].values\n",
    "# Get the target\n",
    "y = df['target'].values\n",
    "\n",
    "from sklearn.preprocessing import StandardScaler\n",
    "\n",
    "# The StandardScaler\n",
    "scaler = StandardScaler()\n",
    "\n",
    "# Standardize the features\n",
    "X = scaler.fit_transform(X)\n",
    "\n",
    "dff = np.c_[y,X]\n",
    "\n",
    "dff = pd.DataFrame(dff)\n",
    "dff.columns = list_"
   ]
  },
  {
   "cell_type": "code",
   "execution_count": 12,
   "metadata": {},
   "outputs": [
    {
     "name": "stdout",
     "output_type": "stream",
     "text": [
      "-------------process continuous variable:w25698-------------\n",
      "w25698\n",
      "  var_name                   split_list  woe_list\n",
      "0   w25698  (-INF,-0.23757976964380254] -0.136927\n",
      "1   w25698  (-0.23757976964380254,+INF)  1.490537\n",
      "2\n"
     ]
    },
    {
     "data": {
      "image/png": "[encoded data removed]",
      "text/plain": [
       "<Figure size 720x360 with 1 Axes>"
      ]
     },
     "metadata": {
      "needs_background": "light"
     },
     "output_type": "display_data"
    }
   ],
   "source": [
    "woev, numbin = iv_woe(dff, 'target', 'w25698')\n",
    "swoe = sigmoid(woev)\n",
    "#print(swoe)\n",
    "plot_woe(numbin, swoe, 'w25698', 1, X)\n",
    "plt.savefig('/media/user/2FD84FB396A78049/lwqa/pics/woe-spambase.png', dpi=300)\n",
    "plt.show()"
   ]
  },
  {
   "cell_type": "markdown",
   "metadata": {},
   "source": [
    "# spambase"
   ]
  },
  {
   "cell_type": "code",
   "execution_count": 13,
   "metadata": {},
   "outputs": [],
   "source": [
    "import pandas as pd\n",
    "\n",
    "# Load the data\n",
    "df = pd.read_csv('spambase.data', header=None)\n",
    "\n",
    "# Specify the name of the columns\n",
    "df.columns = ['word_freq_make', 'word_freq_address', 'word_freq_all', 'word_freq_3d', 'word_freq_our', 'word_freq_over', 'word_freq_remove', 'word_freq_internet', 'word_freq_order', 'word_freq_mail', 'word_freq_receive', 'word_freq_will', 'word_freq_people', 'word_freq_report', 'word_freq_addresses', 'word_freq_free', 'word_freq_business', 'word_freq_email', 'word_freq_you', 'word_freq_credit', 'word_freq_your', 'word_freq_font', 'word_freq_000', 'word_freq_money', 'word_freq_hp', 'word_freq_hpl', 'word_freq_george', 'word_freq_650', 'word_freq_lab', 'word_freq_labs', 'word_freq_telnet', 'word_freq_857', 'word_freq_data', 'word_freq_415', 'word_freq_85', 'word_freq_technology', 'word_freq_1999', 'word_freq_parts', 'word_freq_pm', 'word_freq_direct', 'word_freq_cs', 'word_freq_meeting', 'word_freq_original', 'word_freq_project', 'word_freq_re', 'word_freq_edu', 'word_freq_table', 'word_freq_conference', 'char_freq_;', 'char_freq_(', 'char_freq_[', 'char_freq_!', 'char_freq_$', 'char_freq_#', 'capital_run_length_average', 'capital_run_length_longest', 'capital_run_length_total', 'target']\n",
    "\n",
    "# Features\n",
    "features = ['word_freq_make', 'word_freq_address', 'word_freq_all', 'word_freq_3d', 'word_freq_our', 'word_freq_over', 'word_freq_remove', 'word_freq_internet', 'word_freq_order', 'word_freq_mail', 'word_freq_receive', 'word_freq_will', 'word_freq_people', 'word_freq_report', 'word_freq_addresses', 'word_freq_free', 'word_freq_business', 'word_freq_email', 'word_freq_you', 'word_freq_credit', 'word_freq_your', 'word_freq_font', 'word_freq_000', 'word_freq_money', 'word_freq_hp', 'word_freq_hpl', 'word_freq_george', 'word_freq_650', 'word_freq_lab', 'word_freq_labs', 'word_freq_telnet', 'word_freq_857', 'word_freq_data', 'word_freq_415', 'word_freq_85', 'word_freq_technology', 'word_freq_1999', 'word_freq_parts', 'word_freq_pm', 'word_freq_direct', 'word_freq_cs', 'word_freq_meeting', 'word_freq_original', 'word_freq_project', 'word_freq_re', 'word_freq_edu', 'word_freq_table', 'word_freq_conference', 'char_freq_;', 'char_freq_(', 'char_freq_[', 'char_freq_!', 'char_freq_$', 'char_freq_#', 'capital_run_length_average', 'capital_run_length_longest', 'capital_run_length_total']\n",
    "\n",
    "#Specify the name of the features\n",
    "# Get the features\n",
    "X = df[features].values\n",
    "# Get the target\n",
    "y = df['target'].values\n",
    "\n",
    "from sklearn.preprocessing import StandardScaler\n",
    "\n",
    "# The StandardScaler\n",
    "scaler = StandardScaler()\n",
    "\n",
    "# Standardize the features\n",
    "X = scaler.fit_transform(X)\n",
    "\n",
    "dff = np.c_[y,X]\n",
    "\n",
    "dff = pd.DataFrame(dff)\n",
    "dff.columns = ['target','word_freq_make', 'word_freq_address', 'word_freq_all', 'word_freq_3d', 'word_freq_our', 'word_freq_over', 'word_freq_remove', 'word_freq_internet', 'word_freq_order', 'word_freq_mail', 'word_freq_receive', 'word_freq_will', 'word_freq_people', 'word_freq_report', 'word_freq_addresses', 'word_freq_free', 'word_freq_business', 'word_freq_email', 'word_freq_you', 'word_freq_credit', 'word_freq_your', 'word_freq_font', 'word_freq_000', 'word_freq_money', 'word_freq_hp', 'word_freq_hpl', 'word_freq_george', 'word_freq_650', 'word_freq_lab', 'word_freq_labs', 'word_freq_telnet', 'word_freq_857', 'word_freq_data', 'word_freq_415', 'word_freq_85', 'word_freq_technology', 'word_freq_1999', 'word_freq_parts', 'word_freq_pm', 'word_freq_direct', 'word_freq_cs', 'word_freq_meeting', 'word_freq_original', 'word_freq_project', 'word_freq_re', 'word_freq_edu', 'word_freq_table', 'word_freq_conference', 'char_freq_;', 'char_freq_(', 'char_freq_[', 'char_freq_!', 'char_freq_$', 'char_freq_#', 'capital_run_length_average', 'capital_run_length_longest', 'capital_run_length_total']"
   ]
  },
  {
   "cell_type": "code",
   "execution_count": 14,
   "metadata": {},
   "outputs": [
    {
     "name": "stdout",
     "output_type": "stream",
     "text": [
      "----------process continuous variable:char_freq_!-----------\n",
      "char_freq_!\n",
      "      var_name                                   split_list  woe_list\n",
      "0  char_freq_!                  (-INF,-0.32991229454180127] -1.480426\n",
      "1  char_freq_!  (-0.32991229454180127,-0.23059683378296697] -0.106586\n",
      "2  char_freq_!   (-0.23059683378296697,-0.0994023362373464]  0.549246\n",
      "3  char_freq_!    (-0.0994023362373464,0.04527944610268377]  1.065306\n",
      "4  char_freq_!     (0.04527944610268377,0.1781537236636081]  1.385852\n",
      "5  char_freq_!      (0.1781537236636081,0.6747923332977541]  1.833647\n",
      "6  char_freq_!                    (0.6747923332977541,+INF)  2.347262\n",
      "7\n"
     ]
    },
    {
     "data": {
      "image/png": "[encoded data removed]",
      "text/plain": [
       "<Figure size 720x360 with 1 Axes>"
      ]
     },
     "metadata": {
      "needs_background": "light"
     },
     "output_type": "display_data"
    }
   ],
   "source": [
    "woev, numbin = iv_woe(dff, 'target', 'char_freq_!')\n",
    "swoe = sigmoid(woev)\n",
    "#print(swoe)\n",
    "plot_woe(numbin, swoe, 'char_freq_!', 0, X)\n",
    "plt.savefig('/media/user/2FD84FB396A78049/lwqa/pics/woe-spambase.png', dpi=300)\n",
    "plt.show()"
   ]
  },
  {
   "cell_type": "markdown",
   "metadata": {},
   "source": [
    "# MNIST"
   ]
  },
  {
   "cell_type": "code",
   "execution_count": 15,
   "metadata": {},
   "outputs": [],
   "source": [
    "import pandas as pd\n",
    "import numpy as np\n",
    "\n",
    "# Load the data\n",
    "df = pd.read_csv('train.csv', header=None)\n",
    "\n",
    "# Specify the name of the columns\n",
    "list_=['target']\n",
    "for i in range(0,784):\n",
    "    str(i)\n",
    "    list_.append('w'+str(i))\n",
    "    \n",
    "df.columns = list_\n",
    "features = list_[1:]\n",
    "\n",
    "# Get the features\n",
    "X = df[features].values\n",
    "# Get the target\n",
    "y = df['target'].values\n",
    "\n",
    "#Initialize a column\n",
    "a=np.zeros([X.shape[0],1])\n",
    "\n",
    "#Calculate the average of row\n",
    "for i in range(0,28):\n",
    "    b=np.mean(X[:,i*28:(i+1)*28],axis=1)\n",
    "    a=np.c_[a,b]\n",
    "    \n",
    "#Calculate the average of column\n",
    "n=0\n",
    "for i in range(0,28):\n",
    "    c=X[:,i]\n",
    "    for j in range(28,784):\n",
    "        if j%28==n:\n",
    "            c=np.c_[c,X[:,j]]\n",
    "    c=np.mean(c,axis=1)\n",
    "    a=np.c_[a,c]\n",
    "    n=n+1\n",
    "    \n",
    "#update X matrix    \n",
    "X=a[:,1:58]\n",
    "\n",
    "from sklearn.preprocessing import StandardScaler\n",
    "\n",
    "# The StandardScaler\n",
    "scaler = StandardScaler()\n",
    "\n",
    "# Standardize the features\n",
    "X = scaler.fit_transform(X)\n",
    "\n",
    "for i in range(0,42000):\n",
    "    if not y[i] == 1:\n",
    "        y[i] = 0\n",
    "        \n",
    "        \n",
    "dff = np.c_[y,X]\n",
    "\n",
    "dff = pd.DataFrame(dff)\n",
    "\n",
    "list_=['target']\n",
    "for i in range(0,56):\n",
    "    str(i)\n",
    "    list_.append('w'+str(i))\n",
    "    \n",
    "dff.columns = list_"
   ]
  },
  {
   "cell_type": "code",
   "execution_count": 16,
   "metadata": {},
   "outputs": [
    {
     "name": "stdout",
     "output_type": "stream",
     "text": [
      "--------------process continuous variable:w41---------------\n",
      "w41\n",
      "  var_name   split_list      woe_list\n",
      "0      w41  (-INF,+INF)  1.866946e-08\n",
      "1\n"
     ]
    },
    {
     "data": {
      "image/png": "[encoded data removed]",
      "text/plain": [
       "<Figure size 720x360 with 1 Axes>"
      ]
     },
     "metadata": {
      "needs_background": "light"
     },
     "output_type": "display_data"
    }
   ],
   "source": [
    "woev, numbin = iv_woe(dff, 'target', 'w41')\n",
    "swoe = sigmoid(woev)\n",
    "#print(swoe)\n",
    "plot_woe(numbin, swoe, 'w41', 1, X)\n",
    "plt.savefig('/media/user/2FD84FB396A78049/lwqa/pics/woe-minist.png', dpi=300)\n",
    "plt.show()"
   ]
  },
  {
   "cell_type": "markdown",
   "metadata": {},
   "source": [
    "# CIFAR-10"
   ]
  },
  {
   "cell_type": "code",
   "execution_count": 3,
   "metadata": {},
   "outputs": [
    {
     "name": "stderr",
     "output_type": "stream",
     "text": [
      "/home/user/.local/lib/python3.5/site-packages/sklearn/utils/validation.py:595: DataConversionWarning: Data with input dtype int64 was converted to float64 by StandardScaler.\n",
      "  warnings.warn(msg, DataConversionWarning)\n",
      "/home/user/.local/lib/python3.5/site-packages/sklearn/utils/validation.py:595: DataConversionWarning: Data with input dtype int64 was converted to float64 by StandardScaler.\n",
      "  warnings.warn(msg, DataConversionWarning)\n"
     ]
    }
   ],
   "source": [
    "import numpy as np\n",
    "import random\n",
    "import pandas as pd\n",
    "import pickle\n",
    "import platform\n",
    "import os\n",
    " \n",
    "#加载序列文件\n",
    "def load_pickle(f):\n",
    "    version=platform.python_version_tuple()#判断python的版本\n",
    "    if version[0]== '2':\n",
    "        return pickle.load(f)\n",
    "    elif version[0]== '3':\n",
    "        return pickle.load(f,encoding='latin1')\n",
    "    raise ValueError(\"invalid python version:{}\".format(version))\n",
    "\n",
    "#处理原数据\n",
    "def load_CIFAR_batch(filename):\n",
    "    with open(filename,'rb') as f:\n",
    "        datadict=load_pickle(f)\n",
    "        X=datadict['data']\n",
    "        Y=datadict['labels']\n",
    "        #X=X.reshape(10000,3,32,32).transpose(0,2,3,1).astype(\"float\")\n",
    "        #reshape()是在不改变矩阵的数值的前提下修改矩阵的形状,transpose()对矩阵进行转置\n",
    "        Y=np.array(Y)\n",
    "        return X,Y\n",
    "        \n",
    "        \n",
    "#返回可以直接使用的数据集\n",
    "def load_CIFAR10(ROOT):\n",
    "    xs=[]\n",
    "    ys=[]\n",
    "    for b in range(1,6):\n",
    "        f=os.path.join(ROOT,'data_batch_%d'%(b,))#os.path.join()将多个路径组合后返回\n",
    "        X,Y=load_CIFAR_batch(f)\n",
    "        xs.append(X)\n",
    "        ys.append(Y)\n",
    "    Xtr=np.concatenate(xs)#这个函数用于将多个数组进行连接\n",
    "    Ytr=np.concatenate(ys)\n",
    "    del X,Y\n",
    "    Xte,Yte=load_CIFAR_batch(os.path.join(ROOT,'test_batch'))\n",
    "    return Xtr,Ytr,Xte,Yte\n",
    "\n",
    "\n",
    "datasets='cifar-10-batches-py'\n",
    "X_train,Y_train,X_test,Y_test=load_CIFAR10(datasets)\n",
    "\n",
    "\n",
    "#get R,G,B array\n",
    "XR = X_train[:,:1024]\n",
    "XG = X_train[:,1024:2048]\n",
    "XB = X_train[:,2048:3072]\n",
    "\n",
    "XR = np.c_[Y_train, XR]\n",
    "XG = np.c_[Y_train, XG]\n",
    "XB = np.c_[Y_train, XB]\n",
    "\n",
    "\n",
    "#get dataframe\n",
    "df = pd.DataFrame(XR)\n",
    "\n",
    "#name each pixel point\n",
    "list_=['target']\n",
    "for i in range(0,32):#row\n",
    "    for j in range(0,32):#column\n",
    "        list_.append(str(i)+'-'+str(j)+'R')\n",
    "\n",
    "    \n",
    "    \n",
    "df.columns = list_\n",
    "#Specify the name of the features\n",
    "#del list_[0]\n",
    "features = list_[1:]\n",
    "# Get the features\n",
    "X = df[features].values\n",
    "# Get the target\n",
    "y = df['target'].values\n",
    "\n",
    "for i in range(0,50000):\n",
    "    if y[i] == 5:\n",
    "        y[i] = 11\n",
    "    else:\n",
    "        y[i] = 0\n",
    "        \n",
    "for i in range(0,50000):\n",
    "    if y[i] == 11:\n",
    "        y[i] = 1\n",
    "        \n",
    "from sklearn.preprocessing import StandardScaler\n",
    "\n",
    "# The StandardScaler\n",
    "scaler = StandardScaler()\n",
    "\n",
    "# Standardize the features\n",
    "X = scaler.fit_transform(X)\n",
    "\n",
    "list_=['target']\n",
    "for i in range(0,32):#row\n",
    "    for j in range(0,32):#column\n",
    "        list_.append(str(i)+'-'+str(j)+'R')\n",
    "\n",
    "dff = np.c_[y,X]\n",
    "\n",
    "dff = pd.DataFrame(dff)\n",
    "dff.columns = list_"
   ]
  },
  {
   "cell_type": "code",
   "execution_count": 4,
   "metadata": {},
   "outputs": [
    {
     "name": "stdout",
     "output_type": "stream",
     "text": [
      "-------------process continuous variable:16-16R-------------\n",
      "16-16R\n",
      "   var_name                                 split_list  woe_list\n",
      "0    16-16R                 (-INF,-1.4686044521985133]  0.025127\n",
      "1    16-16R  (-1.4686044521985133,-1.2044168316700654] -0.056014\n",
      "2    16-16R  (-1.2044168316700654,-0.9567409374246454] -0.209960\n",
      "3    16-16R  (-0.9567409374246454,-0.6595298643301414] -0.357749\n",
      "4    16-16R  (-0.6595298643301414,-0.4283656963677493] -0.225480\n",
      "5    16-16R  (-0.4283656963677493,-0.2797601598204973] -0.419545\n",
      "6    16-16R  (-0.2797601598204973,0.18256817610428677] -0.234401\n",
      "7    16-16R   (0.18256817610428677,0.4632675229157628] -0.023022\n",
      "8    16-16R    (0.4632675229157628,0.7274551434442108]  0.164959\n",
      "9    16-16R    (0.7274551434442108,0.9751310376896309]  0.064847\n",
      "10   16-16R    (0.9751310376896309,1.2723421107841348]  0.293902\n",
      "11   16-16R     (1.2723421107841348,1.652111815293779]  0.394461\n",
      "12   16-16R                   (1.652111815293779,+INF)  0.564937\n",
      "13\n"
     ]
    },
    {
     "data": {
      "image/png": "[encoded data removed]",
      "text/plain": [
       "<Figure size 720x360 with 1 Axes>"
      ]
     },
     "metadata": {
      "needs_background": "light"
     },
     "output_type": "display_data"
    }
   ],
   "source": [
    "woev, numbin = iv_woe(dff, 'target', '16-16R')\n",
    "swoe = sigmoid(woev)\n",
    "#print(swoe)\n",
    "plot_woe(numbin, swoe, '16-16R', 1, X)\n",
    "plt.savefig('/media/user/2FD84FB396A78049/lwqa/pics/woe-cifar-10.png', dpi=300)\n",
    "plt.show()"
   ]
  },
  {
   "cell_type": "code",
   "execution_count": null,
   "metadata": {},
   "outputs": [],
   "source": []
  },
  {
   "cell_type": "code",
   "execution_count": null,
   "metadata": {},
   "outputs": [],
   "source": []
  }
 ],
 "metadata": {
  "kernelspec": {
   "display_name": "Python 3.5",
   "language": "python",
   "name": "python3"
  },
  "language_info": {
   "codemirror_mode": {
    "name": "ipython",
    "version": 3
   },
   "file_extension": ".py",
   "mimetype": "text/x-python",
   "name": "python",
   "nbconvert_exporter": "python",
   "pygments_lexer": "ipython3",
   "version": "3.5.2"
  }
 },
 "nbformat": 4,
 "nbformat_minor": 2
}
